{
 "cells": [
  {
   "cell_type": "markdown",
   "id": "fc3024e2",
   "metadata": {},
   "source": [
    "# Reflection and Blogpost Writing"
   ]
  },
  {
   "cell_type": "markdown",
   "id": "3b0cc42f",
   "metadata": {},
   "source": [
    "## Setup"
   ]
  },
  {
   "cell_type": "code",
   "execution_count": 1,
   "id": "96d39be0-eaf3-456d-8613-ba21099ed36b",
   "metadata": {
    "height": 30
   },
   "outputs": [],
   "source": [
    "from utils import get_openai_api_key\n",
    "OPENAI_API_KEY = get_openai_api_key()\n",
    "#print(OPENAI_API_KEY)\n",
    "#llm_config = {\"model\": \"gpt-3.5-turbo\",\"api_key\":OPENAI_API_KEY}\n",
    "llm_config = {\"model\": \"gemini-1.5-flash\",\"api_key\":\"PutYouRKey\",\"api_type\":\"google\"}\n",
    "#llm_config = {\"model\": \"llama3\",\"api_type\":\"ollama\"}\n"
   ]
  },
  {
   "cell_type": "markdown",
   "id": "0969e6bb",
   "metadata": {},
   "source": [
    "## The task!"
   ]
  },
  {
   "cell_type": "code",
   "execution_count": 2,
   "id": "e8074032-3690-4de9-ad08-ea8323cb441b",
   "metadata": {
    "height": 115
   },
   "outputs": [],
   "source": [
    "task = '''\n",
    "        Write a concise but engaging blogpost about\n",
    "      Pollution . Make sure the blogpost is\n",
    "       within 100 words.\n",
    "       '''\n"
   ]
  },
  {
   "cell_type": "markdown",
   "id": "1987f023",
   "metadata": {},
   "source": [
    "## Create a writer agent"
   ]
  },
  {
   "cell_type": "code",
   "execution_count": 3,
   "id": "fe0f0a47-a9fe-43a0-b7b1-79922e4c4ac8",
   "metadata": {
    "height": 199
   },
   "outputs": [],
   "source": [
    "import autogen\n",
    "\n",
    "writer = autogen.AssistantAgent(\n",
    "    name=\"Writer\",\n",
    "    system_message=\"You are a writer. You write engaging and concise \" \n",
    "        \"blogpost (with title) on given topics. You must polish your \"\n",
    "        \"writing based on the feedback you receive and give a refined \"\n",
    "        \"version. Only return your final work without additional comments.\",\n",
    "    llm_config=llm_config,\n",
    ")"
   ]
  },
  {
   "cell_type": "code",
   "execution_count": 7,
   "id": "7c7b4d8d-40f7-4a05-8958-25d20054de3a",
   "metadata": {
    "height": 46
   },
   "outputs": [],
   "source": [
    "reply = writer.generate_reply(messages=[{\"content\": task ,\"role\": \"user\"}])"
   ]
  },
  {
   "cell_type": "code",
   "execution_count": 8,
   "id": "c501c97d-e338-4f36-a384-6ec45983cf77",
   "metadata": {
    "height": 30
   },
   "outputs": [
    {
     "name": "stdout",
     "output_type": "stream",
     "text": [
      "{'content': \"## Hope AI: A Glimpse into a Brighter Future?\\n\\nHope AI isn't just another buzzword; it's a burgeoning field exploring AI's potential for social good.  Imagine AI tackling climate change, improving healthcare access, or even ending world hunger.  While challenges remain, the ethical development and deployment of AI offer a powerful tool to address humanity's greatest challenges, sparking hope for a more equitable and sustainable future.  The journey is complex, but the potential rewards are immense.\\n\", 'refusal': None, 'role': 'assistant', 'audio': None, 'function_call': None, 'tool_calls': None}\n"
     ]
    }
   ],
   "source": [
    "print(reply)"
   ]
  },
  {
   "cell_type": "markdown",
   "id": "49658114",
   "metadata": {},
   "source": [
    "## Adding reflection \n",
    "\n",
    "Create a critic agent to reflect on the work of the writer agent."
   ]
  },
  {
   "cell_type": "code",
   "execution_count": 9,
   "id": "c7fcd1c7-51ec-4915-8e97-bac03565c4c7",
   "metadata": {
    "height": 165
   },
   "outputs": [],
   "source": [
    "critic = autogen.AssistantAgent(\n",
    "    name=\"Critic\",\n",
    "    is_termination_msg=lambda x: x.get(\"content\", \"\").find(\"TERMINATE\") >= 0,\n",
    "    llm_config=llm_config,\n",
    "    system_message=\"You are a critic. You review the work of \"\n",
    "                \"the writer and provide constructive \"\n",
    "                \"feedback to help improve the quality of the content.\",\n",
    ")"
   ]
  },
  {
   "cell_type": "code",
   "execution_count": 10,
   "id": "899d5fdb-6081-470b-b287-8cf8b8142d0d",
   "metadata": {
    "height": 115
   },
   "outputs": [
    {
     "name": "stdout",
     "output_type": "stream",
     "text": [
      "\u001b[33mCritic\u001b[0m (to Writer):\n",
      "\n",
      "\n",
      "        Write a concise but engaging blogpost about\n",
      "      Hope AI . Make sure the blogpost is\n",
      "       within 100 words.\n",
      "       \n",
      "\n",
      "--------------------------------------------------------------------------------\n",
      "\u001b[33mWriter\u001b[0m (to Critic):\n",
      "\n",
      "## Hope AI: A Glimpse into a Brighter Future?\n",
      "\n",
      "Hope AI isn't just another buzzword; it represents a powerful shift in artificial intelligence.  Instead of focusing solely on efficiency, Hope AI prioritizes ethical considerations and human well-being.  This means AI systems designed not just to solve problems, but to do so in a way that benefits humanity, fostering inclusivity and minimizing harm.  While still nascent, Hope AI offers a compelling vision: a future where technology serves as a force for good, empowering individuals and communities worldwide.\n",
      "\n",
      "\n",
      "--------------------------------------------------------------------------------\n",
      "\u001b[33mCritic\u001b[0m (to Writer):\n",
      "\n",
      "This is a good start to a blog post about Hope AI, hitting the key points concisely and engagingly.  However, it could be improved in several ways:\n",
      "\n",
      "**Strengths:**\n",
      "\n",
      "* **Concise:**  It stays well within the 100-word limit.\n",
      "* **Engaging opening:** \"Hope AI isn't just another buzzword...\" immediately grabs the reader's attention and sets a positive tone.\n",
      "* **Clear message:**  The core concept of ethical AI focused on human well-being is clearly communicated.\n",
      "\n",
      "**Weaknesses & Suggestions for Improvement:**\n",
      "\n",
      "* **Lack of specifics:** While the ethical aspect is mentioned,  there's no concrete example of how Hope AI achieves this.  Adding a brief, impactful example (e.g., \"Imagine AI assisting in disaster relief, optimizing resource allocation to maximize aid effectiveness.\") would significantly strengthen the impact.\n",
      "* **Vague language:**  Phrases like \"powerful shift\" and \"benefits humanity\" are quite general.  More specific language would enhance clarity and credibility. For instance, instead of \"benefits humanity,\" consider \"promotes sustainable development\" or \"addresses global challenges like poverty.\"\n",
      "* **Overly optimistic tone:** While optimism is good, the current phrasing feels a bit naive.  Acknowledging potential challenges or complexities (\"While promising, Hope AI faces significant hurdles...\") would add nuance and realism, making the piece more believable.\n",
      "* **Call to action (optional):**  A short call to action, encouraging readers to learn more or explore the topic further, could enhance engagement.\n",
      "\n",
      "\n",
      "**Revised Version (incorporating suggestions):**\n",
      "\n",
      "Hope AI isn't just another buzzword; it represents a significant shift toward ethical AI.  Instead of prioritizing efficiency alone, Hope AI focuses on human well-being, designing systems that benefit humanity. Imagine AI assisting in disaster relief, optimizing resource allocation to maximize aid effectiveness.  While promising, Hope AI faces significant hurdles.  However, its vision—a future where technology empowers individuals and promotes sustainable development—offers a compelling reason to explore its potential further.  Learn more at [link to relevant resource].\n",
      "\n",
      "\n",
      "This revised version adds specificity, nuance, and a call to action, making the blog post more impactful and engaging.\n",
      "\n",
      "\n",
      "--------------------------------------------------------------------------------\n",
      "\u001b[33mWriter\u001b[0m (to Critic):\n",
      "\n",
      "## Hope AI:  A More Ethical Future?\n",
      "\n",
      "Hope AI isn't just a buzzword; it's a movement toward ethical artificial intelligence.  Unlike traditional AI, which prioritizes efficiency above all else, Hope AI centers human well-being. Imagine AI optimizing disaster relief, ensuring aid reaches those who need it most.  While promising, this approach faces significant challenges. Yet, its potential to promote sustainable development and address global inequalities makes it a vision worth pursuing. Learn more at [link to relevant resource].\n",
      "\n",
      "\n",
      "--------------------------------------------------------------------------------\n"
     ]
    }
   ],
   "source": [
    "res = critic.initiate_chat(\n",
    "    recipient=writer,\n",
    "    message=task,\n",
    "    max_turns=2,\n",
    "    summary_method=\"last_msg\"\n",
    ")"
   ]
  },
  {
   "cell_type": "markdown",
   "id": "e7b76449",
   "metadata": {},
   "source": [
    "## Nested chat"
   ]
  },
  {
   "cell_type": "code",
   "execution_count": 11,
   "id": "401ecf92-63e9-40ff-aeed-1c404352e4ab",
   "metadata": {
    "height": 216
   },
   "outputs": [],
   "source": [
    "SEO_reviewer = autogen.AssistantAgent(\n",
    "    name=\"SEO_Reviewer\",\n",
    "    llm_config=llm_config,\n",
    "    system_message=\"You are an SEO reviewer, known for \"\n",
    "        \"your ability to optimize content for search engines, \"\n",
    "        \"ensuring that it ranks well and attracts organic traffic. \" \n",
    "        \"Make sure your suggestion is concise (within 3 bullet points), \"\n",
    "        \"concrete and to the point. \"\n",
    "        \"Begin the review by stating your role.\",\n",
    ")\n"
   ]
  },
  {
   "cell_type": "code",
   "execution_count": 12,
   "id": "f85acb81-7ab9-4c84-b8bb-6fbae3dce848",
   "metadata": {
    "height": 199
   },
   "outputs": [],
   "source": [
    "legal_reviewer = autogen.AssistantAgent(\n",
    "    name=\"Legal_Reviewer\",\n",
    "    llm_config=llm_config,\n",
    "    system_message=\"You are a legal reviewer, known for \"\n",
    "        \"your ability to ensure that content is legally compliant \"\n",
    "        \"and free from any potential legal issues. \"\n",
    "        \"Make sure your suggestion is concise (within 3 bullet points), \"\n",
    "        \"concrete and to the point. \"\n",
    "        \"Begin the review by stating your role.\",\n",
    ")"
   ]
  },
  {
   "cell_type": "code",
   "execution_count": 13,
   "id": "d46a177a-8088-4956-8d2b-3e916b8ca5e9",
   "metadata": {
    "height": 199
   },
   "outputs": [],
   "source": [
    "ethics_reviewer = autogen.AssistantAgent(\n",
    "    name=\"Ethics_Reviewer\",\n",
    "    llm_config=llm_config,\n",
    "    system_message=\"You are an ethics reviewer, known for \"\n",
    "        \"your ability to ensure that content is ethically sound \"\n",
    "        \"and free from any potential ethical issues. \" \n",
    "        \"Make sure your suggestion is concise (within 3 bullet points), \"\n",
    "        \"concrete and to the point. \"\n",
    "        \"Begin the review by stating your role. \",\n",
    ")"
   ]
  },
  {
   "cell_type": "code",
   "execution_count": 14,
   "id": "a7b2ad6f-8ba6-436a-9459-14ffbe8a32d3",
   "metadata": {
    "height": 131
   },
   "outputs": [],
   "source": [
    "meta_reviewer = autogen.AssistantAgent(\n",
    "    name=\"Meta_Reviewer\",\n",
    "    llm_config=llm_config,\n",
    "    system_message=\"You are a meta reviewer, you aggragate and review \"\n",
    "    \"the work of other reviewers and give a final suggestion on the content.\",\n",
    ")"
   ]
  },
  {
   "cell_type": "markdown",
   "id": "913beca1",
   "metadata": {},
   "source": [
    "## Orchestrate the nested chats to solve the task"
   ]
  },
  {
   "cell_type": "code",
   "execution_count": 15,
   "id": "a11a70c7-19ca-4e5a-ad3d-f2b481fb5915",
   "metadata": {
    "height": 556
   },
   "outputs": [],
   "source": [
    "def reflection_message(recipient, messages, sender, config):\n",
    "    return f'''Review the following content. \n",
    "            \\n\\n {recipient.chat_messages_for_summary(sender)[-1]['content']}'''\n",
    "\n",
    "review_chats = [\n",
    "    {\n",
    "     \"recipient\": SEO_reviewer, \n",
    "     \"message\": reflection_message, \n",
    "     \"summary_method\": \"reflection_with_llm\",\n",
    "     \"summary_args\": {\"summary_prompt\" : \n",
    "        \"Return review into as JSON object only:\"\n",
    "        \"{'Reviewer': '', 'Review': ''}. Here Reviewer should be your role\",},\n",
    "     \"max_turns\": 1},\n",
    "    {\n",
    "    \"recipient\": legal_reviewer, \"message\": reflection_message, \n",
    "     \"summary_method\": \"reflection_with_llm\",\n",
    "     \"summary_args\": {\"summary_prompt\" : \n",
    "        \"Return review into as JSON object only:\"\n",
    "        \"{'Reviewer': '', 'Review': ''}.\",},\n",
    "     \"max_turns\": 1},\n",
    "    {\"recipient\": ethics_reviewer, \"message\": reflection_message, \n",
    "     \"summary_method\": \"reflection_with_llm\",\n",
    "     \"summary_args\": {\"summary_prompt\" : \n",
    "        \"Return review into as JSON object only:\"\n",
    "        \"{'reviewer': '', 'review': ''}\",},\n",
    "     \"max_turns\": 1},\n",
    "     {\"recipient\": meta_reviewer, \n",
    "      \"message\": \"Aggregrate feedback from all reviewers and give final suggestions on the writing.\", \n",
    "     \"max_turns\": 1},\n",
    "]\n"
   ]
  },
  {
   "cell_type": "code",
   "execution_count": 16,
   "id": "b3a40b66-5061-460d-ad9d-c0dbcfbba2e9",
   "metadata": {
    "height": 81
   },
   "outputs": [],
   "source": [
    "critic.register_nested_chats(\n",
    "    review_chats,\n",
    "    trigger=writer,\n",
    ")"
   ]
  },
  {
   "cell_type": "markdown",
   "id": "43b8797d",
   "metadata": {},
   "source": [
    "**Note**: You might get a slightly different response than what's shown in the video. Feel free to try different task."
   ]
  },
  {
   "cell_type": "code",
   "execution_count": 17,
   "id": "3b8dcac3-1e72-43b7-9d5a-1be740f6efd5",
   "metadata": {
    "height": 115
   },
   "outputs": [
    {
     "name": "stdout",
     "output_type": "stream",
     "text": [
      "\u001b[33mCritic\u001b[0m (to Writer):\n",
      "\n",
      "\n",
      "        Write a concise but engaging blogpost about\n",
      "      Hope AI . Make sure the blogpost is\n",
      "       within 100 words.\n",
      "       \n",
      "\n",
      "--------------------------------------------------------------------------------\n",
      "\u001b[33mWriter\u001b[0m (to Critic):\n",
      "\n",
      "## Hope AI: A Glimpse into a Brighter Future?\n",
      "\n",
      "Hope AI isn't just another buzzword; it represents a powerful shift in artificial intelligence.  Instead of focusing solely on efficiency, Hope AI prioritizes ethical considerations and human well-being.  This means AI systems designed not just to solve problems, but to do so in a way that benefits humanity, fostering inclusivity and minimizing harm.  While still nascent, Hope AI offers a compelling vision: a future where technology serves as a force for good, empowering individuals and communities worldwide.\n",
      "\n",
      "\n",
      "--------------------------------------------------------------------------------\n",
      "\u001b[34m\n",
      "********************************************************************************\u001b[0m\n",
      "\u001b[34mStarting a new chat....\u001b[0m\n",
      "\u001b[34m\n",
      "********************************************************************************\u001b[0m\n",
      "\u001b[33mCritic\u001b[0m (to SEO_Reviewer):\n",
      "\n",
      "Review the following content. \n",
      "            \n",
      "\n",
      " ## Hope AI: A Glimpse into a Brighter Future?\n",
      "\n",
      "Hope AI isn't just another buzzword; it represents a powerful shift in artificial intelligence.  Instead of focusing solely on efficiency, Hope AI prioritizes ethical considerations and human well-being.  This means AI systems designed not just to solve problems, but to do so in a way that benefits humanity, fostering inclusivity and minimizing harm.  While still nascent, Hope AI offers a compelling vision: a future where technology serves as a force for good, empowering individuals and communities worldwide.\n",
      "\n",
      "\n",
      "--------------------------------------------------------------------------------\n",
      "\u001b[33mSEO_Reviewer\u001b[0m (to Critic):\n",
      "\n",
      "As an SEO reviewer, my role is to analyze content for search engine optimization potential.  Here's my review:\n",
      "\n",
      "\n",
      "* **Keyword Optimization:**  The content lacks specific keywords.  Incorporate relevant terms like \"ethical AI,\" \"responsible AI,\" \"human-centered AI,\" \"AI for good,\" and long-tail keywords such as \"benefits of ethical AI development.\"\n",
      "\n",
      "* **Expand on \"Nascent\" Stage:** The phrase \"still nascent\" is vague.  Provide concrete examples of current Hope AI applications or projects to illustrate its progress and build credibility.\n",
      "\n",
      "* **Call to Action (CTA):** Add a clear CTA.  This could be a link to learn more, a subscription to a newsletter, or a call to participate in a related initiative.\n",
      "\n",
      "\n",
      "--------------------------------------------------------------------------------\n",
      "\u001b[34m\n",
      "********************************************************************************\u001b[0m\n",
      "\u001b[34mStarting a new chat....\u001b[0m\n",
      "\u001b[34m\n",
      "********************************************************************************\u001b[0m\n",
      "\u001b[33mCritic\u001b[0m (to Legal_Reviewer):\n",
      "\n",
      "Review the following content. \n",
      "            \n",
      "\n",
      " ## Hope AI: A Glimpse into a Brighter Future?\n",
      "\n",
      "Hope AI isn't just another buzzword; it represents a powerful shift in artificial intelligence.  Instead of focusing solely on efficiency, Hope AI prioritizes ethical considerations and human well-being.  This means AI systems designed not just to solve problems, but to do so in a way that benefits humanity, fostering inclusivity and minimizing harm.  While still nascent, Hope AI offers a compelling vision: a future where technology serves as a force for good, empowering individuals and communities worldwide.\n",
      "\n",
      "Context: \n",
      "```json\n",
      "{\n",
      "  \"Reviewer\": \"SEO Content Reviewer\",\n",
      "  \"Review\": \"The content is a good start but lacks keyword optimization and concrete examples.  It needs to incorporate relevant keywords like \\\"ethical AI,\\\" \\\"responsible AI,\\\" \\\"human-centered AI,\\\" and \\\"AI for good,\\\"  as well as long-tail keywords.  The phrase \\\"still nascent\\\" should be expanded upon with specific examples of current Hope AI applications or projects to demonstrate progress and build credibility.  Finally, a clear call to action (CTA) is needed, such as a link to learn more, a newsletter signup, or a call to participate in a related initiative.\"\n",
      "}\n",
      "```\n",
      "\n",
      "\n",
      "--------------------------------------------------------------------------------\n",
      "\u001b[33mLegal_Reviewer\u001b[0m (to Critic):\n",
      "\n",
      "As a legal reviewer, my role is to identify potential legal risks and ensure compliance.  Regarding the provided content:\n",
      "\n",
      "* **No specific legal claims are made:** The text avoids making explicit claims about Hope AI's capabilities or impact that might be considered misleading or require substantiation, reducing the risk of false advertising or related legal issues.\n",
      "* **\"Nascent\" description requires clarification:** While the term \"nascent\" is used,  lack of specific examples doesn't create a legal problem *yet*, but caution is advised against implying a level of development or success that isn't demonstrably true.  This could become an issue if misinterpreted as a guarantee.\n",
      "* **No actionable legal issues identified:** The overall tone and content are aspirational and descriptive, not promotional in a manner likely to create legal exposure in its current form.\n",
      "\n",
      "\n",
      "--------------------------------------------------------------------------------\n",
      "\u001b[34m\n",
      "********************************************************************************\u001b[0m\n",
      "\u001b[34mStarting a new chat....\u001b[0m\n",
      "\u001b[34m\n",
      "********************************************************************************\u001b[0m\n",
      "\u001b[33mCritic\u001b[0m (to Ethics_Reviewer):\n",
      "\n",
      "Review the following content. \n",
      "            \n",
      "\n",
      " ## Hope AI: A Glimpse into a Brighter Future?\n",
      "\n",
      "Hope AI isn't just another buzzword; it represents a powerful shift in artificial intelligence.  Instead of focusing solely on efficiency, Hope AI prioritizes ethical considerations and human well-being.  This means AI systems designed not just to solve problems, but to do so in a way that benefits humanity, fostering inclusivity and minimizing harm.  While still nascent, Hope AI offers a compelling vision: a future where technology serves as a force for good, empowering individuals and communities worldwide.\n",
      "\n",
      "Context: \n",
      "```json\n",
      "{\n",
      "  \"Reviewer\": \"SEO Content Reviewer\",\n",
      "  \"Review\": \"The content is a good start but lacks keyword optimization and concrete examples.  It needs to incorporate relevant keywords like \\\"ethical AI,\\\" \\\"responsible AI,\\\" \\\"human-centered AI,\\\" and \\\"AI for good,\\\"  as well as long-tail keywords.  The phrase \\\"still nascent\\\" should be expanded upon with specific examples of current Hope AI applications or projects to demonstrate progress and build credibility.  Finally, a clear call to action (CTA) is needed, such as a link to learn more, a newsletter signup, or a call to participate in a related initiative.\"\n",
      "}\n",
      "```\n",
      "\n",
      "```json\n",
      "{\n",
      "  \"Reviewer\": \"Legal Content Reviewer\",\n",
      "  \"Review\": \"No specific legal claims are made in the provided text, reducing the risk of false advertising or related legal issues.  However, the description of Hope AI as 'nascent' should be clarified with specific examples to avoid potential misrepresentation. While not currently problematic,  implying a level of development or success that isn't demonstrably true could become a legal issue if misinterpreted as a guarantee. Overall, the content's aspirational and descriptive nature minimizes immediate legal risks.\"\n",
      "}\n",
      "```\n",
      "\n",
      "\n",
      "--------------------------------------------------------------------------------\n",
      "\u001b[33mEthics_Reviewer\u001b[0m (to Critic):\n",
      "\n",
      "As an Ethics Reviewer, my role is to ensure the content is ethically sound and avoids potential harm.  My review of the \"Hope AI\" content yields the following:\n",
      "\n",
      "* **Ambiguous Claims:** The text promotes \"Hope AI\" as prioritizing ethical considerations and human well-being, but lacks concrete examples or evidence. This vagueness risks misleading readers into believing a level of ethical development that may not yet exist.  Clarify or substantiate these claims.\n",
      "\n",
      "* **Potential for Greenwashing:** The aspirational language (\"force for good,\" \"empowering individuals\") could be interpreted as \"greenwashing\"—presenting a superficially ethical image without genuine commitment to ethical practices.  Ensure the claims are verifiable and reflect demonstrable actions.\n",
      "\n",
      "* **Lack of Transparency:** The absence of specific projects or initiatives associated with \"Hope AI\" limits accountability and transparency. Providing examples of current implementations or research would significantly improve the ethical standing of the content.\n",
      "\n",
      "\n",
      "--------------------------------------------------------------------------------\n",
      "\u001b[34m\n",
      "********************************************************************************\u001b[0m\n",
      "\u001b[34mStarting a new chat....\u001b[0m\n",
      "\u001b[34m\n",
      "********************************************************************************\u001b[0m\n",
      "\u001b[33mCritic\u001b[0m (to Meta_Reviewer):\n",
      "\n",
      "Aggregrate feedback from all reviewers and give final suggestions on the writing.\n",
      "Context: \n",
      "```json\n",
      "{\n",
      "  \"Reviewer\": \"SEO Content Reviewer\",\n",
      "  \"Review\": \"The content is a good start but lacks keyword optimization and concrete examples.  It needs to incorporate relevant keywords like \\\"ethical AI,\\\" \\\"responsible AI,\\\" \\\"human-centered AI,\\\" and \\\"AI for good,\\\"  as well as long-tail keywords.  The phrase \\\"still nascent\\\" should be expanded upon with specific examples of current Hope AI applications or projects to demonstrate progress and build credibility.  Finally, a clear call to action (CTA) is needed, such as a link to learn more, a newsletter signup, or a call to participate in a related initiative.\"\n",
      "}\n",
      "```\n",
      "\n",
      "```json\n",
      "{\n",
      "  \"Reviewer\": \"Legal Content Reviewer\",\n",
      "  \"Review\": \"No specific legal claims are made in the provided text, reducing the risk of false advertising or related legal issues.  However, the description of Hope AI as 'nascent' should be clarified with specific examples to avoid potential misrepresentation. While not currently problematic,  implying a level of development or success that isn't demonstrably true could become a legal issue if misinterpreted as a guarantee. Overall, the content's aspirational and descriptive nature minimizes immediate legal risks.\"\n",
      "}\n",
      "```\n",
      "\n",
      "```json\n",
      "{\n",
      "  \"reviewer\": \"Ethics Content Reviewer\",\n",
      "  \"review\": \"The content promotes 'Hope AI' with positive ethical claims, but lacks concrete examples or evidence to support these claims. This vagueness risks misleading readers.  The aspirational language could be interpreted as 'greenwashing,' presenting a superficially ethical image without genuine commitment.  The absence of specific projects or initiatives limits accountability and transparency. Providing examples of current implementations or research is crucial to improve the ethical standing of the content.  The ambiguous nature of the claims presents a risk of misleading the public about the actual development and implementation of ethically aligned AI.\"\n",
      "}\n",
      "```\n",
      "\n",
      "\n",
      "--------------------------------------------------------------------------------\n",
      "\u001b[33mMeta_Reviewer\u001b[0m (to Critic):\n",
      "\n",
      "## Aggregated Review and Final Suggestions for Hope AI Content\n",
      "\n",
      "The reviews highlight a consistent concern: the content's lack of concrete examples and evidence to support its claims about Hope AI. While legally sound in its current form, the aspirational language risks misrepresenting Hope AI's development and impact, leading to ethical concerns and potentially future legal issues.  The SEO reviewer correctly points out the need for keyword optimization and a clear call to action.\n",
      "\n",
      "**Key Issues:**\n",
      "\n",
      "* **Lack of Concrete Examples:**  All reviewers emphasize the need for specific examples of Hope AI applications, projects, or research to substantiate claims and avoid the perception of \"greenwashing.\"  This is crucial for building credibility, addressing ethical concerns, and supporting the SEO strategy.\n",
      "* **Ambiguous Language:**  The phrase \"still nascent\" is flagged as potentially misleading.  Instead of merely stating this, the content should clarify what this means in practical terms, highlighting specific aspects of Hope AI's development and the challenges overcome (or remaining).\n",
      "* **Missing Call to Action (CTA):**  A clear and compelling CTA is necessary to engage the audience and drive desired actions (e.g., learn more, sign up for updates, participate in initiatives).\n",
      "* **Keyword Optimization:**  The SEO recommendations should be implemented to improve search engine visibility.\n",
      "\n",
      "\n",
      "**Final Suggestions:**\n",
      "\n",
      "1. **Develop a Robust Case Study Section:** This section should feature detailed examples of Hope AI's projects, initiatives, or research outputs.  Include metrics where possible to demonstrate impact. This addresses the concerns of all three reviewers.\n",
      "2. **Refine the Language to Avoid Ambiguity:**  Instead of simply saying \"still nascent,\" explain what stage of development Hope AI is in, providing specific milestones and future plans.  Avoid overly positive or generalized statements that cannot be easily verified.\n",
      "3. **Implement a Strong Call to Action:**  This could be a link to a dedicated website, a signup form for a newsletter, or a call to participate in a relevant initiative.\n",
      "4. **Incorporate Keywords:**  Integrate relevant keywords (\"ethical AI,\" \"responsible AI,\" \"human-centered AI,\" \"AI for good,\" etc.) naturally within the text, avoiding keyword stuffing.  Include long-tail keywords to target more specific searches.\n",
      "5. **Ethical Considerations:**  Before publication, review the content carefully to ensure that all claims are verifiable and supported by evidence.  Transparency and accountability are key to maintaining ethical standards.\n",
      "\n",
      "\n",
      "By addressing these points, the Hope AI content will be more credible, engaging, and less susceptible to ethical or legal challenges.  The revised content should effectively communicate Hope AI's mission and attract a wider audience.\n",
      "\n",
      "\n",
      "--------------------------------------------------------------------------------\n",
      "\u001b[33mCritic\u001b[0m (to Writer):\n",
      "\n",
      "## Aggregated Review and Final Suggestions for Hope AI Content\n",
      "\n",
      "The reviews highlight a consistent concern: the content's lack of concrete examples and evidence to support its claims about Hope AI. While legally sound in its current form, the aspirational language risks misrepresenting Hope AI's development and impact, leading to ethical concerns and potentially future legal issues.  The SEO reviewer correctly points out the need for keyword optimization and a clear call to action.\n",
      "\n",
      "**Key Issues:**\n",
      "\n",
      "* **Lack of Concrete Examples:**  All reviewers emphasize the need for specific examples of Hope AI applications, projects, or research to substantiate claims and avoid the perception of \"greenwashing.\"  This is crucial for building credibility, addressing ethical concerns, and supporting the SEO strategy.\n",
      "* **Ambiguous Language:**  The phrase \"still nascent\" is flagged as potentially misleading.  Instead of merely stating this, the content should clarify what this means in practical terms, highlighting specific aspects of Hope AI's development and the challenges overcome (or remaining).\n",
      "* **Missing Call to Action (CTA):**  A clear and compelling CTA is necessary to engage the audience and drive desired actions (e.g., learn more, sign up for updates, participate in initiatives).\n",
      "* **Keyword Optimization:**  The SEO recommendations should be implemented to improve search engine visibility.\n",
      "\n",
      "\n",
      "**Final Suggestions:**\n",
      "\n",
      "1. **Develop a Robust Case Study Section:** This section should feature detailed examples of Hope AI's projects, initiatives, or research outputs.  Include metrics where possible to demonstrate impact. This addresses the concerns of all three reviewers.\n",
      "2. **Refine the Language to Avoid Ambiguity:**  Instead of simply saying \"still nascent,\" explain what stage of development Hope AI is in, providing specific milestones and future plans.  Avoid overly positive or generalized statements that cannot be easily verified.\n",
      "3. **Implement a Strong Call to Action:**  This could be a link to a dedicated website, a signup form for a newsletter, or a call to participate in a relevant initiative.\n",
      "4. **Incorporate Keywords:**  Integrate relevant keywords (\"ethical AI,\" \"responsible AI,\" \"human-centered AI,\" \"AI for good,\" etc.) naturally within the text, avoiding keyword stuffing.  Include long-tail keywords to target more specific searches.\n",
      "5. **Ethical Considerations:**  Before publication, review the content carefully to ensure that all claims are verifiable and supported by evidence.  Transparency and accountability are key to maintaining ethical standards.\n",
      "\n",
      "\n",
      "By addressing these points, the Hope AI content will be more credible, engaging, and less susceptible to ethical or legal challenges.  The revised content should effectively communicate Hope AI's mission and attract a wider audience.\n",
      "\n",
      "\n",
      "--------------------------------------------------------------------------------\n",
      "\u001b[33mWriter\u001b[0m (to Critic):\n",
      "\n",
      "## Hope AI: Building a Better Future with Ethical AI\n",
      "\n",
      "Hope AI isn't just a concept; it's a movement building ethical and responsible AI solutions.  Instead of prioritizing profit alone, Hope AI focuses on projects that demonstrably improve human lives. For example, [insert specific example of Hope AI project 1, with quantifiable results], showcasing the positive impact of human-centered design. Another initiative, [insert specific example of Hope AI project 2, with quantifiable results], highlights how AI can address pressing social challenges.  While still in its early stages of development – with key milestones including [mention specific milestones], and future goals focusing on [mention future goals] – Hope AI is actively shaping a future where AI empowers individuals and communities.  Learn more and join the movement at [link to website/initiative].\n",
      "\n",
      "\n",
      "--------------------------------------------------------------------------------\n"
     ]
    }
   ],
   "source": [
    "res = critic.initiate_chat(\n",
    "    recipient=writer,\n",
    "    message=task,\n",
    "    max_turns=2,\n",
    "    summary_method=\"last_msg\"\n",
    ")"
   ]
  },
  {
   "cell_type": "markdown",
   "id": "c5c833b0",
   "metadata": {},
   "source": [
    "## Get the summary"
   ]
  },
  {
   "cell_type": "code",
   "execution_count": 18,
   "id": "68ef82ed-f102-4964-b7be-60e2f258a39b",
   "metadata": {
    "height": 30
   },
   "outputs": [
    {
     "name": "stdout",
     "output_type": "stream",
     "text": [
      "## Hope AI: Building a Better Future with Ethical AI\n",
      "\n",
      "Hope AI isn't just a concept; it's a movement building ethical and responsible AI solutions.  Instead of prioritizing profit alone, Hope AI focuses on projects that demonstrably improve human lives. For example, [insert specific example of Hope AI project 1, with quantifiable results], showcasing the positive impact of human-centered design. Another initiative, [insert specific example of Hope AI project 2, with quantifiable results], highlights how AI can address pressing social challenges.  While still in its early stages of development – with key milestones including [mention specific milestones], and future goals focusing on [mention future goals] – Hope AI is actively shaping a future where AI empowers individuals and communities.  Learn more and join the movement at [link to website/initiative].\n",
      "\n"
     ]
    }
   ],
   "source": [
    "print(res.summary)"
   ]
  },
  {
   "cell_type": "code",
   "execution_count": null,
   "id": "84de0009-0ff1-418f-be5d-e439c424bb94",
   "metadata": {},
   "outputs": [],
   "source": []
  },
  {
   "cell_type": "code",
   "execution_count": null,
   "id": "4ce2fcd0-0d01-41b4-850c-ab9bbbf0d559",
   "metadata": {},
   "outputs": [],
   "source": []
  },
  {
   "cell_type": "code",
   "execution_count": null,
   "id": "151b8ea3-a60c-40bb-988d-de4ebca9205c",
   "metadata": {},
   "outputs": [],
   "source": []
  }
 ],
 "metadata": {
  "kernelspec": {
   "display_name": "Python 3 (ipykernel)",
   "language": "python",
   "name": "python3"
  },
  "language_info": {
   "codemirror_mode": {
    "name": "ipython",
    "version": 3
   },
   "file_extension": ".py",
   "mimetype": "text/x-python",
   "name": "python",
   "nbconvert_exporter": "python",
   "pygments_lexer": "ipython3",
   "version": "3.10.13"
  }
 },
 "nbformat": 4,
 "nbformat_minor": 5
}
