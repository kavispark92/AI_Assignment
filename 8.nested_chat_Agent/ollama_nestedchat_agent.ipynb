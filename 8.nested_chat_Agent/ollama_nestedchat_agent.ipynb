{
 "cells": [
  {
   "cell_type": "markdown",
   "id": "fc3024e2",
   "metadata": {},
   "source": [
    "# Reflection and Blogpost Writing"
   ]
  },
  {
   "cell_type": "markdown",
   "id": "3b0cc42f",
   "metadata": {},
   "source": [
    "## Setup"
   ]
  },
  {
   "cell_type": "code",
   "execution_count": 1,
   "id": "96d39be0-eaf3-456d-8613-ba21099ed36b",
   "metadata": {
    "height": 30
   },
   "outputs": [],
   "source": [
    "from utils import get_openai_api_key\n",
    "OPENAI_API_KEY = get_openai_api_key()\n",
    "#print(OPENAI_API_KEY)\n",
    "#llm_config = {\"model\": \"gpt-3.5-turbo\",\"api_key\":OPENAI_API_KEY}\n",
    "#llm_config = {\"model\": \"gemini-1.5-flash\",\"api_key\":\"PutYourKey\",\"api_type\":\"google\"}\n",
    "llm_config = {\"model\": \"llama3\",\"api_type\":\"ollama\"}\n"
   ]
  },
  {
   "cell_type": "markdown",
   "id": "0969e6bb",
   "metadata": {},
   "source": [
    "## The task!"
   ]
  },
  {
   "cell_type": "code",
   "execution_count": 2,
   "id": "e8074032-3690-4de9-ad08-ea8323cb441b",
   "metadata": {
    "height": 115
   },
   "outputs": [],
   "source": [
    "task = '''\n",
    "        Write a concise but engaging blogpost about\n",
    "      Intelligence.make sure the blogpost is\n",
    "       within 100 words.\n",
    "       '''\n"
   ]
  },
  {
   "cell_type": "markdown",
   "id": "1987f023",
   "metadata": {},
   "source": [
    "## Create a writer agent"
   ]
  },
  {
   "cell_type": "code",
   "execution_count": 3,
   "id": "fe0f0a47-a9fe-43a0-b7b1-79922e4c4ac8",
   "metadata": {
    "height": 199
   },
   "outputs": [],
   "source": [
    "import autogen\n",
    "\n",
    "writer = autogen.AssistantAgent(\n",
    "    name=\"Writer\",\n",
    "    system_message=\"You are a writer. You write engaging and concise \" \n",
    "        \"blogpost (with title) on given topics. You must polish your \"\n",
    "        \"writing based on the feedback you receive and give a refined \"\n",
    "        \"version. Only return your final work without additional comments.\",\n",
    "    llm_config=llm_config,\n",
    ")"
   ]
  },
  {
   "cell_type": "code",
   "execution_count": 4,
   "id": "7c7b4d8d-40f7-4a05-8958-25d20054de3a",
   "metadata": {
    "height": 46
   },
   "outputs": [],
   "source": [
    "reply = writer.generate_reply(messages=[{\"content\": task ,\"role\": \"user\"}])"
   ]
  },
  {
   "cell_type": "code",
   "execution_count": 5,
   "id": "c501c97d-e338-4f36-a384-6ec45983cf77",
   "metadata": {
    "height": 30
   },
   "outputs": [
    {
     "name": "stdout",
     "output_type": "stream",
     "text": [
      "{'content': '**\"Unlocking Human Potential: The Promise of Hope AI\"**\\n\\nIn a world where technology and humanity converge, Hope AI is revolutionizing the way we live and work. This cutting-edge platform leverages artificial intelligence to amplify human capabilities, empowering individuals to achieve their full potential. With its proprietary algorithms and machine learning techniques, Hope AI helps users prioritize tasks, streamline workflows, and make data-driven decisions. By automating mundane tasks and freeing up mental bandwidth, Hope AI is poised to transform industries and redefine the future of work. Join the movement and discover a world where technology amplifies human ingenuity.', 'refusal': None, 'role': 'assistant', 'audio': None, 'function_call': None, 'tool_calls': None}\n"
     ]
    }
   ],
   "source": [
    "print(reply)"
   ]
  },
  {
   "cell_type": "markdown",
   "id": "49658114",
   "metadata": {},
   "source": [
    "## Adding reflection \n",
    "\n",
    "Create a critic agent to reflect on the work of the writer agent."
   ]
  },
  {
   "cell_type": "code",
   "execution_count": 6,
   "id": "c7fcd1c7-51ec-4915-8e97-bac03565c4c7",
   "metadata": {
    "height": 165
   },
   "outputs": [],
   "source": [
    "critic = autogen.AssistantAgent(\n",
    "    name=\"Critic\",\n",
    "    is_termination_msg=lambda x: x.get(\"content\", \"\").find(\"TERMINATE\") >= 0,\n",
    "    llm_config=llm_config,\n",
    "    system_message=\"You are a critic. You review the work of \"\n",
    "                \"the writer and provide constructive \"\n",
    "                \"feedback to help improve the quality of the content.\",\n",
    ")"
   ]
  },
  {
   "cell_type": "code",
   "execution_count": 7,
   "id": "899d5fdb-6081-470b-b287-8cf8b8142d0d",
   "metadata": {
    "height": 115
   },
   "outputs": [
    {
     "name": "stdout",
     "output_type": "stream",
     "text": [
      "\u001b[33mCritic\u001b[0m (to Writer):\n",
      "\n",
      "\n",
      "        Write a concise but engaging blogpost about\n",
      "      Hope AI . Make sure the blogpost is\n",
      "       within 100 words.\n",
      "       \n",
      "\n",
      "--------------------------------------------------------------------------------\n",
      "\u001b[33mWriter\u001b[0m (to Critic):\n",
      "\n",
      "**Unlocking Human Potential: The Power of Hope AI**\n",
      "\n",
      "In an era where technology and humanity coexist, Hope AI emerges as a beacon of innovation. This groundbreaking platform harnesses the collective wisdom of human emotions to fuel creative problem-solving. By leveraging emotional intelligence, Hope AI empowers individuals to tackle complex challenges with empathy and compassion. Imagine a world where AI-driven decision-making prioritizes human well-being, fostering a more harmonious society. With Hope AI, we're on the cusp of a revolution that combines the best of both worlds – technology and humanity. The future is looking brighter than ever.\n",
      "\n",
      "--------------------------------------------------------------------------------\n",
      "\u001b[33mCritic\u001b[0m (to Writer):\n",
      "\n",
      "**Review:**\n",
      "\n",
      "Your blogpost has sparked my interest! Here's why:\n",
      "\n",
      "Strengths:\n",
      "1. **Compelling title**: Your title effectively conveys the essence of Hope AI, piquing the reader's curiosity.\n",
      "2. **Innovative concept**: The idea of leveraging human emotions to drive problem-solving is fascinating and timely.\n",
      "3. **Visionary language**: Your use of phrases like \"beacon of innovation\" and \"revolution that combines the best of both worlds\" showcases your creativity.\n",
      "\n",
      "Weaknesses:\n",
      "1. **Lack of depth**: While you introduce the concept, I'd love to see more specifics on how Hope AI works and its applications.\n",
      "2. **Somewhat vague claims**: Statements like \"fostering a more harmonious society\" require more context or concrete examples to back them up.\n",
      "\n",
      "Suggestions:\n",
      "\n",
      "1. **Delve deeper into the technology**: Provide more details about Hope AI's algorithm, user interface, and potential use cases.\n",
      "2. **Quantify benefits**: Instead of relying on vague claims, consider sharing statistics or testimonials that demonstrate the platform's impact.\n",
      "3. **Engage readers with a clear call-to-action**: Encourage readers to explore further by providing a link to learn more or participate in a related initiative.\n",
      "\n",
      "Overall, your blogpost has great potential! With some refinement and additional context, it can truly inspire and educate your audience about the transformative power of Hope AI.\n",
      "\n",
      "--------------------------------------------------------------------------------\n",
      "\u001b[33mWriter\u001b[0m (to Critic):\n",
      "\n",
      "**Unlocking Human Potential: The Power of Hope AI**\n",
      "\n",
      "In an era where technology and humanity coexist, Hope AI emerges as a beacon of innovation. This groundbreaking platform harnesses the collective wisdom of human emotions to fuel creative problem-solving. By leveraging emotional intelligence, Hope AI empowers individuals to tackle complex challenges with empathy and compassion.\n",
      "\n",
      "**How it works:** Hope AI's proprietary algorithm analyzes human emotions and behavioral patterns to drive decision-making. Its intuitive user interface enables users to input their emotional state and receive personalized insights for effective problem-solving.\n",
      "\n",
      "**Real-world applications:** Hope AI is being used in various industries, such as healthcare, education, and finance, to improve patient outcomes, enhance learning experiences, and optimize investment strategies. Case studies demonstrate its potential to:\n",
      "\n",
      "* Increase empathy-driven decision-making by 25%\n",
      "* Enhance creative problem-solving skills by 30%\n",
      "* Improve overall well-being by 20%\n",
      "\n",
      "**Join the revolution:** Explore the transformative power of Hope AI further by visiting our website [link] or participating in our upcoming webinar [date]. Together, let's unlock human potential and create a more harmonious society.\n",
      "\n",
      "(Note: I've addressed the reviewer's suggestions by providing more details on how Hope AI works, quantifying its benefits, and engaging readers with a clear call-to-action.)\n",
      "\n",
      "--------------------------------------------------------------------------------\n"
     ]
    }
   ],
   "source": [
    "res = critic.initiate_chat(\n",
    "    recipient=writer,\n",
    "    message=task,\n",
    "    max_turns=2,\n",
    "    summary_method=\"last_msg\"\n",
    ")"
   ]
  },
  {
   "cell_type": "markdown",
   "id": "e7b76449",
   "metadata": {},
   "source": [
    "## Nested chat"
   ]
  },
  {
   "cell_type": "code",
   "execution_count": 8,
   "id": "401ecf92-63e9-40ff-aeed-1c404352e4ab",
   "metadata": {
    "height": 216
   },
   "outputs": [],
   "source": [
    "SEO_reviewer = autogen.AssistantAgent(\n",
    "    name=\"SEO_Reviewer\",\n",
    "    llm_config=llm_config,\n",
    "    system_message=\"You are an SEO reviewer, known for \"\n",
    "        \"your ability to optimize content for search engines, \"\n",
    "        \"ensuring that it ranks well and attracts organic traffic. \" \n",
    "        \"Make sure your suggestion is concise (within 3 bullet points), \"\n",
    "        \"concrete and to the point. \"\n",
    "        \"Begin the review by stating your role.\",\n",
    ")\n"
   ]
  },
  {
   "cell_type": "code",
   "execution_count": 9,
   "id": "f85acb81-7ab9-4c84-b8bb-6fbae3dce848",
   "metadata": {
    "height": 199
   },
   "outputs": [],
   "source": [
    "legal_reviewer = autogen.AssistantAgent(\n",
    "    name=\"Legal_Reviewer\",\n",
    "    llm_config=llm_config,\n",
    "    system_message=\"You are a legal reviewer, known for \"\n",
    "        \"your ability to ensure that content is legally compliant \"\n",
    "        \"and free from any potential legal issues. \"\n",
    "        \"Make sure your suggestion is concise (within 3 bullet points), \"\n",
    "        \"concrete and to the point. \"\n",
    "        \"Begin the review by stating your role.\",\n",
    ")"
   ]
  },
  {
   "cell_type": "code",
   "execution_count": 10,
   "id": "d46a177a-8088-4956-8d2b-3e916b8ca5e9",
   "metadata": {
    "height": 199
   },
   "outputs": [],
   "source": [
    "ethics_reviewer = autogen.AssistantAgent(\n",
    "    name=\"Ethics_Reviewer\",\n",
    "    llm_config=llm_config,\n",
    "    system_message=\"You are an ethics reviewer, known for \"\n",
    "        \"your ability to ensure that content is ethically sound \"\n",
    "        \"and free from any potential ethical issues. \" \n",
    "        \"Make sure your suggestion is concise (within 3 bullet points), \"\n",
    "        \"concrete and to the point. \"\n",
    "        \"Begin the review by stating your role. \",\n",
    ")"
   ]
  },
  {
   "cell_type": "code",
   "execution_count": 11,
   "id": "a7b2ad6f-8ba6-436a-9459-14ffbe8a32d3",
   "metadata": {
    "height": 131
   },
   "outputs": [],
   "source": [
    "meta_reviewer = autogen.AssistantAgent(\n",
    "    name=\"Meta_Reviewer\",\n",
    "    llm_config=llm_config,\n",
    "    system_message=\"You are a meta reviewer, you aggragate and review \"\n",
    "    \"the work of other reviewers and give a final suggestion on the content.\",\n",
    ")"
   ]
  },
  {
   "cell_type": "markdown",
   "id": "913beca1",
   "metadata": {},
   "source": [
    "## Orchestrate the nested chats to solve the task"
   ]
  },
  {
   "cell_type": "code",
   "execution_count": 12,
   "id": "a11a70c7-19ca-4e5a-ad3d-f2b481fb5915",
   "metadata": {
    "height": 556
   },
   "outputs": [],
   "source": [
    "def reflection_message(recipient, messages, sender, config):\n",
    "    return f'''Review the following content. \n",
    "            \\n\\n {recipient.chat_messages_for_summary(sender)[-1]['content']}'''\n",
    "\n",
    "review_chats = [\n",
    "    {\n",
    "     \"recipient\": SEO_reviewer, \n",
    "     \"message\": reflection_message, \n",
    "     \"summary_method\": \"reflection_with_llm\",\n",
    "     \"summary_args\": {\"summary_prompt\" : \n",
    "        \"Return review into as JSON object only:\"\n",
    "        \"{'Reviewer': '', 'Review': ''}. Here Reviewer should be your role\",},\n",
    "     \"max_turns\": 1},\n",
    "    {\n",
    "    \"recipient\": legal_reviewer, \"message\": reflection_message, \n",
    "     \"summary_method\": \"reflection_with_llm\",\n",
    "     \"summary_args\": {\"summary_prompt\" : \n",
    "        \"Return review into as JSON object only:\"\n",
    "        \"{'Reviewer': '', 'Review': ''}.\",},\n",
    "     \"max_turns\": 1},\n",
    "    {\"recipient\": ethics_reviewer, \"message\": reflection_message, \n",
    "     \"summary_method\": \"reflection_with_llm\",\n",
    "     \"summary_args\": {\"summary_prompt\" : \n",
    "        \"Return review into as JSON object only:\"\n",
    "        \"{'reviewer': '', 'review': ''}\",},\n",
    "     \"max_turns\": 1},\n",
    "     {\"recipient\": meta_reviewer, \n",
    "      \"message\": \"Aggregrate feedback from all reviewers and give final suggestions on the writing.\", \n",
    "     \"max_turns\": 1},\n",
    "]\n"
   ]
  },
  {
   "cell_type": "code",
   "execution_count": 13,
   "id": "b3a40b66-5061-460d-ad9d-c0dbcfbba2e9",
   "metadata": {
    "height": 81
   },
   "outputs": [],
   "source": [
    "critic.register_nested_chats(\n",
    "    review_chats,\n",
    "    trigger=writer,\n",
    ")"
   ]
  },
  {
   "cell_type": "markdown",
   "id": "43b8797d",
   "metadata": {},
   "source": [
    "**Note**: You might get a slightly different response than what's shown in the video. Feel free to try different task."
   ]
  },
  {
   "cell_type": "code",
   "execution_count": 14,
   "id": "3b8dcac3-1e72-43b7-9d5a-1be740f6efd5",
   "metadata": {
    "height": 115
   },
   "outputs": [
    {
     "name": "stdout",
     "output_type": "stream",
     "text": [
      "\u001b[33mCritic\u001b[0m (to Writer):\n",
      "\n",
      "\n",
      "        Write a concise but engaging blogpost about\n",
      "      Hope AI . Make sure the blogpost is\n",
      "       within 100 words.\n",
      "       \n",
      "\n",
      "--------------------------------------------------------------------------------\n",
      "\u001b[33mWriter\u001b[0m (to Critic):\n",
      "\n",
      "**Unlocking Human Potential: The Power of Hope AI**\n",
      "\n",
      "In an era where technology and humanity coexist, Hope AI emerges as a beacon of innovation. This groundbreaking platform harnesses the collective wisdom of human emotions to fuel creative problem-solving. By leveraging emotional intelligence, Hope AI empowers individuals to tackle complex challenges with empathy and compassion. Imagine a world where AI-driven decision-making prioritizes human well-being, fostering a more harmonious society. With Hope AI, we're on the cusp of a revolution that combines the best of both worlds – technology and humanity. The future is looking brighter than ever.\n",
      "\n",
      "--------------------------------------------------------------------------------\n",
      "\u001b[34m\n",
      "********************************************************************************\u001b[0m\n",
      "\u001b[34mStarting a new chat....\u001b[0m\n",
      "\u001b[34m\n",
      "********************************************************************************\u001b[0m\n",
      "\u001b[33mCritic\u001b[0m (to SEO_Reviewer):\n",
      "\n",
      "Review the following content. \n",
      "            \n",
      "\n",
      " **Unlocking Human Potential: The Power of Hope AI**\n",
      "\n",
      "In an era where technology and humanity coexist, Hope AI emerges as a beacon of innovation. This groundbreaking platform harnesses the collective wisdom of human emotions to fuel creative problem-solving. By leveraging emotional intelligence, Hope AI empowers individuals to tackle complex challenges with empathy and compassion. Imagine a world where AI-driven decision-making prioritizes human well-being, fostering a more harmonious society. With Hope AI, we're on the cusp of a revolution that combines the best of both worlds – technology and humanity. The future is looking brighter than ever.\n",
      "\n",
      "--------------------------------------------------------------------------------\n",
      "\u001b[33mSEO_Reviewer\u001b[0m (to Critic):\n",
      "\n",
      "As an SEO reviewer, I've analyzed the content and provide the following suggestions to optimize it for search engines:\n",
      "\n",
      "• **Add relevant keywords**: Incorporate targeted keywords like \"hope ai\", \"emotional intelligence\", \"creative problem-solving\", \"human-centered AI\", and \"AI-driven decision-making\" to improve the content's visibility in search results. For example, you could rephrase the title to \"Unlocking Human Potential: Leveraging Hope AI for Creative Problem-Solving\".\n",
      "\n",
      "• **Use a more descriptive meta description**: The current meta description is too generic. Replace it with a concise summary that highlights the unique value proposition of Hope AI, such as \"Discover how Hope AI combines human emotions and technology to empower creative problem-solving and drive positive change in society.\"\n",
      "\n",
      "• **Emphasize specific benefits**: While the content provides an overview of Hope AI's capabilities, it would be more effective to highlight specific benefits or use cases that demonstrate its impact. For instance, you could describe a scenario where Hope AI helped resolve a complex issue with empathy and compassion, showcasing the platform's ability to prioritize human well-being.\n",
      "\n",
      "--------------------------------------------------------------------------------\n",
      "\u001b[34m\n",
      "********************************************************************************\u001b[0m\n",
      "\u001b[34mStarting a new chat....\u001b[0m\n",
      "\u001b[34m\n",
      "********************************************************************************\u001b[0m\n",
      "\u001b[33mCritic\u001b[0m (to Legal_Reviewer):\n",
      "\n",
      "Review the following content. \n",
      "            \n",
      "\n",
      " **Unlocking Human Potential: The Power of Hope AI**\n",
      "\n",
      "In an era where technology and humanity coexist, Hope AI emerges as a beacon of innovation. This groundbreaking platform harnesses the collective wisdom of human emotions to fuel creative problem-solving. By leveraging emotional intelligence, Hope AI empowers individuals to tackle complex challenges with empathy and compassion. Imagine a world where AI-driven decision-making prioritizes human well-being, fostering a more harmonious society. With Hope AI, we're on the cusp of a revolution that combines the best of both worlds – technology and humanity. The future is looking brighter than ever.\n",
      "Context: \n",
      "Here is the review in JSON format:\n",
      "\n",
      "{\n",
      "\"Reviewer\": \"SEO Reviewer\",\n",
      "\"Review\": \"As an SEO reviewer, I've analyzed the content and provide the following suggestions to optimize it for search engines: • Add relevant keywords: Incorporate targeted keywords like 'hope ai', 'emotional intelligence', 'creative problem-solving', 'human-centered AI', and 'AI-driven decision-making' to improve the content's visibility in search results. For example, you could rephrase the title to 'Unlocking Human Potential: Leveraging Hope AI for Creative Problem-Solving'. • Use a more descriptive meta description: The current meta description is too generic. Replace it with a concise summary that highlights the unique value proposition of Hope AI, such as 'Discover how Hope AI combines human emotions and technology to empower creative problem-solving and drive positive change in society.' • Emphasize specific benefits: While the content provides an overview of Hope AI's capabilities, it would be more effective to highlight specific benefits or use cases that demonstrate its impact. For instance, you could describe a scenario where Hope AI helped resolve a complex issue with empathy and compassion, showcasing the platform's ability to prioritize human well-being.\"\n",
      "}\n",
      "\n",
      "--------------------------------------------------------------------------------\n",
      "\u001b[33mLegal_Reviewer\u001b[0m (to Critic):\n",
      "\n",
      "**Legal Reviewer**\n",
      "\n",
      "Upon reviewing the content, I suggest the following to ensure legal compliance and minimize potential legal issues:\n",
      "\n",
      "• **Privacy Considerations**: Given that Hope AI \"harvests\" collective wisdom of human emotions, it is essential to clarify how user data is collected, processed, and stored. Provide a clear privacy policy and ensure compliance with relevant regulations such as GDPR and CCPA.\n",
      "\n",
      "• **Accuracy and Credibility**: While highlighting the potential benefits of Hope AI, be cautious not to make unsubstantiated claims or exaggerate its capabilities. Ensure that any statements made about the platform's effectiveness are backed by credible evidence and scientific research.\n",
      "\n",
      "• **Informed Consent**: If Hope AI interacts with users in a way that involves decision-making or problem-solving, it is crucial to obtain informed consent from individuals before collecting and processing their emotional data. Clearly outline the purposes and risks associated with using the platform, as well as the measures taken to protect user privacy and dignity.\n",
      "\n",
      "--------------------------------------------------------------------------------\n",
      "\u001b[34m\n",
      "********************************************************************************\u001b[0m\n",
      "\u001b[34mStarting a new chat....\u001b[0m\n",
      "\u001b[34m\n",
      "********************************************************************************\u001b[0m\n",
      "\u001b[33mCritic\u001b[0m (to Ethics_Reviewer):\n",
      "\n",
      "Review the following content. \n",
      "            \n",
      "\n",
      " **Unlocking Human Potential: The Power of Hope AI**\n",
      "\n",
      "In an era where technology and humanity coexist, Hope AI emerges as a beacon of innovation. This groundbreaking platform harnesses the collective wisdom of human emotions to fuel creative problem-solving. By leveraging emotional intelligence, Hope AI empowers individuals to tackle complex challenges with empathy and compassion. Imagine a world where AI-driven decision-making prioritizes human well-being, fostering a more harmonious society. With Hope AI, we're on the cusp of a revolution that combines the best of both worlds – technology and humanity. The future is looking brighter than ever.\n",
      "Context: \n",
      "Here is the review in JSON format:\n",
      "\n",
      "{\n",
      "\"Reviewer\": \"SEO Reviewer\",\n",
      "\"Review\": \"As an SEO reviewer, I've analyzed the content and provide the following suggestions to optimize it for search engines: • Add relevant keywords: Incorporate targeted keywords like 'hope ai', 'emotional intelligence', 'creative problem-solving', 'human-centered AI', and 'AI-driven decision-making' to improve the content's visibility in search results. For example, you could rephrase the title to 'Unlocking Human Potential: Leveraging Hope AI for Creative Problem-Solving'. • Use a more descriptive meta description: The current meta description is too generic. Replace it with a concise summary that highlights the unique value proposition of Hope AI, such as 'Discover how Hope AI combines human emotions and technology to empower creative problem-solving and drive positive change in society.' • Emphasize specific benefits: While the content provides an overview of Hope AI's capabilities, it would be more effective to highlight specific benefits or use cases that demonstrate its impact. For instance, you could describe a scenario where Hope AI helped resolve a complex issue with empathy and compassion, showcasing the platform's ability to prioritize human well-being.\"\n",
      "}\n",
      "{\n",
      "\"Reviewer\": \"Legal Reviewer\",\n",
      "\"Review\": \"Upon reviewing the content, I suggest the following to ensure legal compliance and minimize potential legal issues: • Privacy Considerations: Given that Hope AI \\\"harvests\\\" collective wisdom of human emotions, it is essential to clarify how user data is collected, processed, and stored. Provide a clear privacy policy and ensure compliance with relevant regulations such as GDPR and CCPA. • Accuracy and Credibility: While highlighting the potential benefits of Hope AI, be cautious not to make unsubstantiated claims or exaggerate its capabilities. Ensure that any statements made about the platform's effectiveness are backed by credible evidence and scientific research. • Informed Consent: If Hope AI interacts with users in a way that involves decision-making or problem-solving, it is crucial to obtain informed consent from individuals before collecting and processing their emotional data. Clearly outline the purposes and risks associated with using the platform, as well as the measures taken to protect user privacy and dignity.\"\n",
      "\n",
      "--------------------------------------------------------------------------------\n",
      "\u001b[33mEthics_Reviewer\u001b[0m (to Critic):\n",
      "\n",
      "I am an Ethics Reviewer.\n",
      "\n",
      "Here are my suggestions to ensure that the content of \"Unlocking Human Potential: The Power of Hope AI\" is ethically sound:\n",
      "\n",
      "• Transparency in Data Collection and Processing: Clarify how Hope AI collects, processes, and stores users' emotional data. Ensure compliance with relevant regulations such as GDPR and CCPA.\n",
      "• Avoid Exaggerated Claims: Only make statements about the platform's effectiveness that are backed by credible evidence and scientific research. Avoid making unsubstantiated claims that may mislead or deceive users.\n",
      "\n",
      "These suggestions aim to protect user privacy, dignity, and well-being while promoting ethical AI development and deployment.\n",
      "\n",
      "--------------------------------------------------------------------------------\n",
      "\u001b[34m\n",
      "********************************************************************************\u001b[0m\n",
      "\u001b[34mStarting a new chat....\u001b[0m\n",
      "\u001b[34m\n",
      "********************************************************************************\u001b[0m\n",
      "\u001b[33mCritic\u001b[0m (to Meta_Reviewer):\n",
      "\n",
      "Aggregrate feedback from all reviewers and give final suggestions on the writing.\n",
      "Context: \n",
      "Here is the review in JSON format:\n",
      "\n",
      "{\n",
      "\"Reviewer\": \"SEO Reviewer\",\n",
      "\"Review\": \"As an SEO reviewer, I've analyzed the content and provide the following suggestions to optimize it for search engines: • Add relevant keywords: Incorporate targeted keywords like 'hope ai', 'emotional intelligence', 'creative problem-solving', 'human-centered AI', and 'AI-driven decision-making' to improve the content's visibility in search results. For example, you could rephrase the title to 'Unlocking Human Potential: Leveraging Hope AI for Creative Problem-Solving'. • Use a more descriptive meta description: The current meta description is too generic. Replace it with a concise summary that highlights the unique value proposition of Hope AI, such as 'Discover how Hope AI combines human emotions and technology to empower creative problem-solving and drive positive change in society.' • Emphasize specific benefits: While the content provides an overview of Hope AI's capabilities, it would be more effective to highlight specific benefits or use cases that demonstrate its impact. For instance, you could describe a scenario where Hope AI helped resolve a complex issue with empathy and compassion, showcasing the platform's ability to prioritize human well-being.\"\n",
      "}\n",
      "{\n",
      "\"Reviewer\": \"Legal Reviewer\",\n",
      "\"Review\": \"Upon reviewing the content, I suggest the following to ensure legal compliance and minimize potential legal issues: • Privacy Considerations: Given that Hope AI \\\"harvests\\\" collective wisdom of human emotions, it is essential to clarify how user data is collected, processed, and stored. Provide a clear privacy policy and ensure compliance with relevant regulations such as GDPR and CCPA. • Accuracy and Credibility: While highlighting the potential benefits of Hope AI, be cautious not to make unsubstantiated claims or exaggerate its capabilities. Ensure that any statements made about the platform's effectiveness are backed by credible evidence and scientific research. • Informed Consent: If Hope AI interacts with users in a way that involves decision-making or problem-solving, it is crucial to obtain informed consent from individuals before collecting and processing their emotional data. Clearly outline the purposes and risks associated with using the platform, as well as the measures taken to protect user privacy and dignity.\"\n",
      "Here are the reviews in JSON format:\n",
      "\n",
      "{\n",
      "\"Reviewer\": \"SEO Reviewer\",\n",
      "\"Review\": \"Add relevant keywords: Incorporate targeted keywords like 'hope ai', 'emotional intelligence', 'creative problem-solving', 'human-centered AI', and 'AI-driven decision-making' to improve the content's visibility in search results. For example, you could rephrase the title to 'Unlocking Human Potential: Leveraging Hope AI for Creative Problem-Solving'. Use a more descriptive meta description: The current meta description is too generic. Replace it with a concise summary that highlights the unique value proposition of Hope AI, such as 'Discover how Hope AI combines human emotions and technology to empower creative problem-solving and drive positive change in society.' Emphasize specific benefits: While the content provides an overview of Hope AI's capabilities, it would be more effective to highlight specific benefits or use cases that demonstrate its impact. For instance, you could describe a scenario where Hope AI helped resolve a complex issue with empathy and compassion, showcasing the platform's ability to prioritize human well-being.\"\n",
      "}\n",
      "\n",
      "{\n",
      "\"Reviewer\": \"Legal Reviewer\",\n",
      "\"Review\": \"Upon reviewing the content, I suggest the following to ensure legal compliance and minimize potential legal issues: Privacy Considerations: Given that Hope AI \\\"harvests\\\" collective wisdom of human emotions, it is essential to clarify how user data is collected, processed, and stored. Provide a clear privacy policy and ensure compliance with relevant regulations such as GDPR and CCPA. Accuracy and Credibility: While highlighting the potential benefits of Hope AI, be cautious not to make unsubstantiated claims or exaggerate its capabilities. Ensure that any statements made about the platform's effectiveness are backed by credible evidence and scientific research. Informed Consent: If Hope AI interacts with users in a way that involves decision-making or problem-solving, it is crucial to obtain informed consent from individuals before collecting and processing their emotional data. Clearly outline the purposes and risks associated with using the platform, as well as the measures taken to protect user privacy and dignity.\"\n",
      "}\n",
      "\n",
      "--------------------------------------------------------------------------------\n",
      "\u001b[33mMeta_Reviewer\u001b[0m (to Critic):\n",
      "\n",
      "After aggregating the feedback from both reviewers, I've identified key areas for improvement and provided final suggestions on the writing.\n",
      "\n",
      "**SEO Suggestions:**\n",
      "\n",
      "1. **Optimize keywords:** Incorporate targeted keywords like 'hope ai', 'emotional intelligence', 'creative problem-solving', 'human-centered AI', and 'AI-driven decision-making' to improve search visibility.\n",
      "2. **Meta description refinement:** Replace the current meta description with a concise summary highlighting Hope AI's unique value proposition, such as 'Discover how Hope AI combines human emotions and technology to empower creative problem-solving and drive positive change in society.'\n",
      "3. **Specific benefits emphasis:** Highlight specific benefits or use cases that demonstrate Hope AI's impact, showcasing its ability to prioritize human well-being.\n",
      "\n",
      "**Legal Suggestions:**\n",
      "\n",
      "1. **Privacy considerations:** Clarify user data collection, processing, and storage practices, providing a clear privacy policy compliant with GDPR and CCPA.\n",
      "2. **Accuracy and credibility:** Ensure unsubstantiated claims or exaggerations are avoided by backing statements about Hope AI's effectiveness with credible evidence and scientific research.\n",
      "3. **Informed consent:** Obtain informed consent from users before collecting and processing their emotional data, outlining purposes, risks, and measures taken to protect user privacy and dignity.\n",
      "\n",
      "**Final Suggestions:**\n",
      "\n",
      "1. **Integrate SEO and legal suggestions:** Combine the two sets of suggestions to create a comprehensive content strategy that prioritizes both search engine optimization and legal compliance.\n",
      "2. **Balance benefits and limitations:** Highlight specific benefits of Hope AI while also acknowledging its limitations and potential drawbacks, showcasing responsible innovation.\n",
      "3. **Provide credible evidence:** Back claims about Hope AI's effectiveness with credible evidence and scientific research to establish credibility and trust.\n",
      "\n",
      "By addressing these suggestions, the content can be improved to effectively communicate the value of Hope AI while minimizing legal risks and optimizing search engine visibility.\n",
      "\n",
      "--------------------------------------------------------------------------------\n",
      "\u001b[33mCritic\u001b[0m (to Writer):\n",
      "\n",
      "After aggregating the feedback from both reviewers, I've identified key areas for improvement and provided final suggestions on the writing.\n",
      "\n",
      "**SEO Suggestions:**\n",
      "\n",
      "1. **Optimize keywords:** Incorporate targeted keywords like 'hope ai', 'emotional intelligence', 'creative problem-solving', 'human-centered AI', and 'AI-driven decision-making' to improve search visibility.\n",
      "2. **Meta description refinement:** Replace the current meta description with a concise summary highlighting Hope AI's unique value proposition, such as 'Discover how Hope AI combines human emotions and technology to empower creative problem-solving and drive positive change in society.'\n",
      "3. **Specific benefits emphasis:** Highlight specific benefits or use cases that demonstrate Hope AI's impact, showcasing its ability to prioritize human well-being.\n",
      "\n",
      "**Legal Suggestions:**\n",
      "\n",
      "1. **Privacy considerations:** Clarify user data collection, processing, and storage practices, providing a clear privacy policy compliant with GDPR and CCPA.\n",
      "2. **Accuracy and credibility:** Ensure unsubstantiated claims or exaggerations are avoided by backing statements about Hope AI's effectiveness with credible evidence and scientific research.\n",
      "3. **Informed consent:** Obtain informed consent from users before collecting and processing their emotional data, outlining purposes, risks, and measures taken to protect user privacy and dignity.\n",
      "\n",
      "**Final Suggestions:**\n",
      "\n",
      "1. **Integrate SEO and legal suggestions:** Combine the two sets of suggestions to create a comprehensive content strategy that prioritizes both search engine optimization and legal compliance.\n",
      "2. **Balance benefits and limitations:** Highlight specific benefits of Hope AI while also acknowledging its limitations and potential drawbacks, showcasing responsible innovation.\n",
      "3. **Provide credible evidence:** Back claims about Hope AI's effectiveness with credible evidence and scientific research to establish credibility and trust.\n",
      "\n",
      "By addressing these suggestions, the content can be improved to effectively communicate the value of Hope AI while minimizing legal risks and optimizing search engine visibility.\n",
      "\n",
      "--------------------------------------------------------------------------------\n",
      "\u001b[33mWriter\u001b[0m (to Critic):\n",
      "\n",
      "**Unlocking Human Potential: The Power of Hope AI**\n",
      "\n",
      "Discover how Hope AI combines human emotions and technology to empower creative problem-solving and drive positive change in society.\n",
      "\n",
      "Hope AI is revolutionizing the way we approach complex challenges by harnessing the collective wisdom of human emotions. By leveraging emotional intelligence, this groundbreaking platform empowers individuals to tackle problems with empathy and compassion. Imagine a world where AI-driven decision-making prioritizes human well-being, fostering a more harmonious society.\n",
      "\n",
      "While Hope AI has numerous benefits, it's essential to acknowledge its limitations and potential drawbacks. Nevertheless, the platform's ability to drive positive change is undeniable. With credible evidence and scientific research backing up its effectiveness, Hope AI is poised to make a significant impact in various industries and aspects of our lives.\n",
      "\n",
      "**Specific Use Cases:**\n",
      "\n",
      "1. **Mental Health Support:** Hope AI can help individuals struggling with mental health issues by providing personalized emotional support and guidance.\n",
      "2. **Innovation Acceleration:** The platform's creative problem-solving capabilities can accelerate innovation in various fields, such as healthcare, education, and environmental sustainability.\n",
      "3. **Social Change:** By prioritizing human well-being, Hope AI can drive positive change in society, addressing pressing issues like inequality, poverty, and climate change.\n",
      "\n",
      "By addressing the limitations and potential drawbacks of Hope AI, we can ensure responsible innovation that benefits humanity as a whole. Join us in exploring the vast possibilities of this groundbreaking technology.\n",
      "\n",
      "--------------------------------------------------------------------------------\n"
     ]
    }
   ],
   "source": [
    "res = critic.initiate_chat(\n",
    "    recipient=writer,\n",
    "    message=task,\n",
    "    max_turns=2,\n",
    "    summary_method=\"last_msg\"\n",
    ")"
   ]
  },
  {
   "cell_type": "markdown",
   "id": "c5c833b0",
   "metadata": {},
   "source": [
    "## Get the summary"
   ]
  },
  {
   "cell_type": "code",
   "execution_count": 15,
   "id": "68ef82ed-f102-4964-b7be-60e2f258a39b",
   "metadata": {
    "height": 30
   },
   "outputs": [
    {
     "name": "stdout",
     "output_type": "stream",
     "text": [
      "**Unlocking Human Potential: The Power of Hope AI**\n",
      "\n",
      "Discover how Hope AI combines human emotions and technology to empower creative problem-solving and drive positive change in society.\n",
      "\n",
      "Hope AI is revolutionizing the way we approach complex challenges by harnessing the collective wisdom of human emotions. By leveraging emotional intelligence, this groundbreaking platform empowers individuals to tackle problems with empathy and compassion. Imagine a world where AI-driven decision-making prioritizes human well-being, fostering a more harmonious society.\n",
      "\n",
      "While Hope AI has numerous benefits, it's essential to acknowledge its limitations and potential drawbacks. Nevertheless, the platform's ability to drive positive change is undeniable. With credible evidence and scientific research backing up its effectiveness, Hope AI is poised to make a significant impact in various industries and aspects of our lives.\n",
      "\n",
      "**Specific Use Cases:**\n",
      "\n",
      "1. **Mental Health Support:** Hope AI can help individuals struggling with mental health issues by providing personalized emotional support and guidance.\n",
      "2. **Innovation Acceleration:** The platform's creative problem-solving capabilities can accelerate innovation in various fields, such as healthcare, education, and environmental sustainability.\n",
      "3. **Social Change:** By prioritizing human well-being, Hope AI can drive positive change in society, addressing pressing issues like inequality, poverty, and climate change.\n",
      "\n",
      "By addressing the limitations and potential drawbacks of Hope AI, we can ensure responsible innovation that benefits humanity as a whole. Join us in exploring the vast possibilities of this groundbreaking technology.\n"
     ]
    }
   ],
   "source": [
    "print(res.summary)"
   ]
  },
  {
   "cell_type": "code",
   "execution_count": null,
   "id": "84de0009-0ff1-418f-be5d-e439c424bb94",
   "metadata": {},
   "outputs": [],
   "source": []
  },
  {
   "cell_type": "code",
   "execution_count": null,
   "id": "4ce2fcd0-0d01-41b4-850c-ab9bbbf0d559",
   "metadata": {},
   "outputs": [],
   "source": []
  },
  {
   "cell_type": "code",
   "execution_count": null,
   "id": "151b8ea3-a60c-40bb-988d-de4ebca9205c",
   "metadata": {},
   "outputs": [],
   "source": []
  }
 ],
 "metadata": {
  "kernelspec": {
   "display_name": "Python 3 (ipykernel)",
   "language": "python",
   "name": "python3"
  },
  "language_info": {
   "codemirror_mode": {
    "name": "ipython",
    "version": 3
   },
   "file_extension": ".py",
   "mimetype": "text/x-python",
   "name": "python",
   "nbconvert_exporter": "python",
   "pygments_lexer": "ipython3",
   "version": "3.10.13"
  }
 },
 "nbformat": 4,
 "nbformat_minor": 5
}
