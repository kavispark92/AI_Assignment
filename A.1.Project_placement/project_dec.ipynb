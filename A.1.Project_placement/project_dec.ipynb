{
 "cells": [
  {
   "cell_type": "code",
   "execution_count": 1,
   "id": "c70237da-e41a-4669-b202-915a2d1aa38c",
   "metadata": {},
   "outputs": [],
   "source": [
    "import pandas as pd\n",
    "import numpy as np\n"
   ]
  },
  {
   "cell_type": "code",
   "execution_count": 2,
   "id": "ff07e1cd-0cc3-4fed-afc0-f3ddc2f0742e",
   "metadata": {},
   "outputs": [],
   "source": [
    "dataset=pd.read_csv(\"Placement.csv\")"
   ]
  },
  {
   "cell_type": "code",
   "execution_count": 3,
   "id": "89d12289-4130-4d6a-b889-2712a61893f4",
   "metadata": {},
   "outputs": [
    {
     "data": {
      "text/html": [
       "<div>\n",
       "<style scoped>\n",
       "    .dataframe tbody tr th:only-of-type {\n",
       "        vertical-align: middle;\n",
       "    }\n",
       "\n",
       "    .dataframe tbody tr th {\n",
       "        vertical-align: top;\n",
       "    }\n",
       "\n",
       "    .dataframe thead th {\n",
       "        text-align: right;\n",
       "    }\n",
       "</style>\n",
       "<table border=\"1\" class=\"dataframe\">\n",
       "  <thead>\n",
       "    <tr style=\"text-align: right;\">\n",
       "      <th></th>\n",
       "      <th>sl_no</th>\n",
       "      <th>gender</th>\n",
       "      <th>ssc_p</th>\n",
       "      <th>ssc_b</th>\n",
       "      <th>hsc_p</th>\n",
       "      <th>hsc_b</th>\n",
       "      <th>hsc_s</th>\n",
       "      <th>degree_p</th>\n",
       "      <th>degree_t</th>\n",
       "      <th>workex</th>\n",
       "      <th>etest_p</th>\n",
       "      <th>specialisation</th>\n",
       "      <th>mba_p</th>\n",
       "      <th>status</th>\n",
       "      <th>salary</th>\n",
       "    </tr>\n",
       "  </thead>\n",
       "  <tbody>\n",
       "    <tr>\n",
       "      <th>0</th>\n",
       "      <td>1</td>\n",
       "      <td>M</td>\n",
       "      <td>67.00</td>\n",
       "      <td>Others</td>\n",
       "      <td>91.00</td>\n",
       "      <td>Others</td>\n",
       "      <td>Commerce</td>\n",
       "      <td>58.00</td>\n",
       "      <td>Sci&amp;Tech</td>\n",
       "      <td>No</td>\n",
       "      <td>55.0</td>\n",
       "      <td>Mkt&amp;HR</td>\n",
       "      <td>58.80</td>\n",
       "      <td>Placed</td>\n",
       "      <td>270000.0</td>\n",
       "    </tr>\n",
       "    <tr>\n",
       "      <th>1</th>\n",
       "      <td>2</td>\n",
       "      <td>M</td>\n",
       "      <td>79.33</td>\n",
       "      <td>Central</td>\n",
       "      <td>78.33</td>\n",
       "      <td>Others</td>\n",
       "      <td>Science</td>\n",
       "      <td>77.48</td>\n",
       "      <td>Sci&amp;Tech</td>\n",
       "      <td>Yes</td>\n",
       "      <td>86.5</td>\n",
       "      <td>Mkt&amp;Fin</td>\n",
       "      <td>66.28</td>\n",
       "      <td>Placed</td>\n",
       "      <td>200000.0</td>\n",
       "    </tr>\n",
       "    <tr>\n",
       "      <th>2</th>\n",
       "      <td>3</td>\n",
       "      <td>M</td>\n",
       "      <td>65.00</td>\n",
       "      <td>Central</td>\n",
       "      <td>68.00</td>\n",
       "      <td>Central</td>\n",
       "      <td>Arts</td>\n",
       "      <td>64.00</td>\n",
       "      <td>Comm&amp;Mgmt</td>\n",
       "      <td>No</td>\n",
       "      <td>75.0</td>\n",
       "      <td>Mkt&amp;Fin</td>\n",
       "      <td>57.80</td>\n",
       "      <td>Placed</td>\n",
       "      <td>250000.0</td>\n",
       "    </tr>\n",
       "    <tr>\n",
       "      <th>3</th>\n",
       "      <td>4</td>\n",
       "      <td>M</td>\n",
       "      <td>56.00</td>\n",
       "      <td>Central</td>\n",
       "      <td>52.00</td>\n",
       "      <td>Central</td>\n",
       "      <td>Science</td>\n",
       "      <td>52.00</td>\n",
       "      <td>Sci&amp;Tech</td>\n",
       "      <td>No</td>\n",
       "      <td>66.0</td>\n",
       "      <td>Mkt&amp;HR</td>\n",
       "      <td>59.43</td>\n",
       "      <td>Not Placed</td>\n",
       "      <td>NaN</td>\n",
       "    </tr>\n",
       "    <tr>\n",
       "      <th>4</th>\n",
       "      <td>5</td>\n",
       "      <td>M</td>\n",
       "      <td>85.80</td>\n",
       "      <td>Central</td>\n",
       "      <td>73.60</td>\n",
       "      <td>Central</td>\n",
       "      <td>Commerce</td>\n",
       "      <td>73.30</td>\n",
       "      <td>Comm&amp;Mgmt</td>\n",
       "      <td>No</td>\n",
       "      <td>96.8</td>\n",
       "      <td>Mkt&amp;Fin</td>\n",
       "      <td>55.50</td>\n",
       "      <td>Placed</td>\n",
       "      <td>425000.0</td>\n",
       "    </tr>\n",
       "    <tr>\n",
       "      <th>...</th>\n",
       "      <td>...</td>\n",
       "      <td>...</td>\n",
       "      <td>...</td>\n",
       "      <td>...</td>\n",
       "      <td>...</td>\n",
       "      <td>...</td>\n",
       "      <td>...</td>\n",
       "      <td>...</td>\n",
       "      <td>...</td>\n",
       "      <td>...</td>\n",
       "      <td>...</td>\n",
       "      <td>...</td>\n",
       "      <td>...</td>\n",
       "      <td>...</td>\n",
       "      <td>...</td>\n",
       "    </tr>\n",
       "    <tr>\n",
       "      <th>210</th>\n",
       "      <td>211</td>\n",
       "      <td>M</td>\n",
       "      <td>80.60</td>\n",
       "      <td>Others</td>\n",
       "      <td>82.00</td>\n",
       "      <td>Others</td>\n",
       "      <td>Commerce</td>\n",
       "      <td>77.60</td>\n",
       "      <td>Comm&amp;Mgmt</td>\n",
       "      <td>No</td>\n",
       "      <td>91.0</td>\n",
       "      <td>Mkt&amp;Fin</td>\n",
       "      <td>74.49</td>\n",
       "      <td>Placed</td>\n",
       "      <td>400000.0</td>\n",
       "    </tr>\n",
       "    <tr>\n",
       "      <th>211</th>\n",
       "      <td>212</td>\n",
       "      <td>M</td>\n",
       "      <td>58.00</td>\n",
       "      <td>Others</td>\n",
       "      <td>60.00</td>\n",
       "      <td>Others</td>\n",
       "      <td>Science</td>\n",
       "      <td>72.00</td>\n",
       "      <td>Sci&amp;Tech</td>\n",
       "      <td>No</td>\n",
       "      <td>74.0</td>\n",
       "      <td>Mkt&amp;Fin</td>\n",
       "      <td>53.62</td>\n",
       "      <td>Placed</td>\n",
       "      <td>275000.0</td>\n",
       "    </tr>\n",
       "    <tr>\n",
       "      <th>212</th>\n",
       "      <td>213</td>\n",
       "      <td>M</td>\n",
       "      <td>67.00</td>\n",
       "      <td>Others</td>\n",
       "      <td>67.00</td>\n",
       "      <td>Others</td>\n",
       "      <td>Commerce</td>\n",
       "      <td>73.00</td>\n",
       "      <td>Comm&amp;Mgmt</td>\n",
       "      <td>Yes</td>\n",
       "      <td>59.0</td>\n",
       "      <td>Mkt&amp;Fin</td>\n",
       "      <td>69.72</td>\n",
       "      <td>Placed</td>\n",
       "      <td>295000.0</td>\n",
       "    </tr>\n",
       "    <tr>\n",
       "      <th>213</th>\n",
       "      <td>214</td>\n",
       "      <td>F</td>\n",
       "      <td>74.00</td>\n",
       "      <td>Others</td>\n",
       "      <td>66.00</td>\n",
       "      <td>Others</td>\n",
       "      <td>Commerce</td>\n",
       "      <td>58.00</td>\n",
       "      <td>Comm&amp;Mgmt</td>\n",
       "      <td>No</td>\n",
       "      <td>70.0</td>\n",
       "      <td>Mkt&amp;HR</td>\n",
       "      <td>60.23</td>\n",
       "      <td>Placed</td>\n",
       "      <td>204000.0</td>\n",
       "    </tr>\n",
       "    <tr>\n",
       "      <th>214</th>\n",
       "      <td>215</td>\n",
       "      <td>M</td>\n",
       "      <td>62.00</td>\n",
       "      <td>Central</td>\n",
       "      <td>58.00</td>\n",
       "      <td>Others</td>\n",
       "      <td>Science</td>\n",
       "      <td>53.00</td>\n",
       "      <td>Comm&amp;Mgmt</td>\n",
       "      <td>No</td>\n",
       "      <td>89.0</td>\n",
       "      <td>Mkt&amp;HR</td>\n",
       "      <td>60.22</td>\n",
       "      <td>Not Placed</td>\n",
       "      <td>NaN</td>\n",
       "    </tr>\n",
       "  </tbody>\n",
       "</table>\n",
       "<p>215 rows × 15 columns</p>\n",
       "</div>"
      ],
      "text/plain": [
       "     sl_no gender  ssc_p    ssc_b  hsc_p    hsc_b     hsc_s  degree_p  \\\n",
       "0        1      M  67.00   Others  91.00   Others  Commerce     58.00   \n",
       "1        2      M  79.33  Central  78.33   Others   Science     77.48   \n",
       "2        3      M  65.00  Central  68.00  Central      Arts     64.00   \n",
       "3        4      M  56.00  Central  52.00  Central   Science     52.00   \n",
       "4        5      M  85.80  Central  73.60  Central  Commerce     73.30   \n",
       "..     ...    ...    ...      ...    ...      ...       ...       ...   \n",
       "210    211      M  80.60   Others  82.00   Others  Commerce     77.60   \n",
       "211    212      M  58.00   Others  60.00   Others   Science     72.00   \n",
       "212    213      M  67.00   Others  67.00   Others  Commerce     73.00   \n",
       "213    214      F  74.00   Others  66.00   Others  Commerce     58.00   \n",
       "214    215      M  62.00  Central  58.00   Others   Science     53.00   \n",
       "\n",
       "      degree_t workex  etest_p specialisation  mba_p      status    salary  \n",
       "0     Sci&Tech     No     55.0         Mkt&HR  58.80      Placed  270000.0  \n",
       "1     Sci&Tech    Yes     86.5        Mkt&Fin  66.28      Placed  200000.0  \n",
       "2    Comm&Mgmt     No     75.0        Mkt&Fin  57.80      Placed  250000.0  \n",
       "3     Sci&Tech     No     66.0         Mkt&HR  59.43  Not Placed       NaN  \n",
       "4    Comm&Mgmt     No     96.8        Mkt&Fin  55.50      Placed  425000.0  \n",
       "..         ...    ...      ...            ...    ...         ...       ...  \n",
       "210  Comm&Mgmt     No     91.0        Mkt&Fin  74.49      Placed  400000.0  \n",
       "211   Sci&Tech     No     74.0        Mkt&Fin  53.62      Placed  275000.0  \n",
       "212  Comm&Mgmt    Yes     59.0        Mkt&Fin  69.72      Placed  295000.0  \n",
       "213  Comm&Mgmt     No     70.0         Mkt&HR  60.23      Placed  204000.0  \n",
       "214  Comm&Mgmt     No     89.0         Mkt&HR  60.22  Not Placed       NaN  \n",
       "\n",
       "[215 rows x 15 columns]"
      ]
     },
     "execution_count": 3,
     "metadata": {},
     "output_type": "execute_result"
    }
   ],
   "source": [
    "dataset"
   ]
  },
  {
   "cell_type": "code",
   "execution_count": 4,
   "id": "9f15a0d8-3e18-476b-a6d8-7115e5b300f0",
   "metadata": {},
   "outputs": [
    {
     "data": {
      "text/plain": [
       "sl_no              0\n",
       "gender             0\n",
       "ssc_p              0\n",
       "ssc_b              0\n",
       "hsc_p              0\n",
       "hsc_b              0\n",
       "hsc_s              0\n",
       "degree_p           0\n",
       "degree_t           0\n",
       "workex             0\n",
       "etest_p            0\n",
       "specialisation     0\n",
       "mba_p              0\n",
       "status             0\n",
       "salary            67\n",
       "dtype: int64"
      ]
     },
     "execution_count": 4,
     "metadata": {},
     "output_type": "execute_result"
    }
   ],
   "source": [
    "dataset.isnull().sum()\n"
   ]
  },
  {
   "cell_type": "code",
   "execution_count": 14,
   "id": "aa86aa25-8954-496f-9c90-fb30fb2f63d7",
   "metadata": {},
   "outputs": [
    {
     "data": {
      "text/html": [
       "<div>\n",
       "<style scoped>\n",
       "    .dataframe tbody tr th:only-of-type {\n",
       "        vertical-align: middle;\n",
       "    }\n",
       "\n",
       "    .dataframe tbody tr th {\n",
       "        vertical-align: top;\n",
       "    }\n",
       "\n",
       "    .dataframe thead th {\n",
       "        text-align: right;\n",
       "    }\n",
       "</style>\n",
       "<table border=\"1\" class=\"dataframe\">\n",
       "  <thead>\n",
       "    <tr style=\"text-align: right;\">\n",
       "      <th></th>\n",
       "      <th>sl_no</th>\n",
       "      <th>gender</th>\n",
       "      <th>ssc_p</th>\n",
       "      <th>ssc_b</th>\n",
       "      <th>hsc_p</th>\n",
       "      <th>hsc_b</th>\n",
       "      <th>hsc_s</th>\n",
       "      <th>degree_p</th>\n",
       "      <th>degree_t</th>\n",
       "      <th>workex</th>\n",
       "      <th>etest_p</th>\n",
       "      <th>specialisation</th>\n",
       "      <th>mba_p</th>\n",
       "      <th>status</th>\n",
       "      <th>salary</th>\n",
       "    </tr>\n",
       "  </thead>\n",
       "  <tbody>\n",
       "  </tbody>\n",
       "</table>\n",
       "</div>"
      ],
      "text/plain": [
       "Empty DataFrame\n",
       "Columns: [sl_no, gender, ssc_p, ssc_b, hsc_p, hsc_b, hsc_s, degree_p, degree_t, workex, etest_p, specialisation, mba_p, status, salary]\n",
       "Index: []"
      ]
     },
     "execution_count": 14,
     "metadata": {},
     "output_type": "execute_result"
    }
   ],
   "source": [
    "dataset[dataset.duplicated()]\n",
    "\n"
   ]
  },
  {
   "cell_type": "code",
   "execution_count": null,
   "id": "2a451b58-9a0c-41ca-88c9-ffac97ac4662",
   "metadata": {},
   "outputs": [],
   "source": [
    "dataset=dataset.drop"
   ]
  },
  {
   "cell_type": "code",
   "execution_count": 5,
   "id": "afa97ccd-83b1-46ee-8746-bb32965e01ff",
   "metadata": {},
   "outputs": [
    {
     "name": "stderr",
     "output_type": "stream",
     "text": [
      "C:\\Users\\argka\\AppData\\Local\\Temp\\ipykernel_23328\\4086041696.py:1: FutureWarning: A value is trying to be set on a copy of a DataFrame or Series through chained assignment using an inplace method.\n",
      "The behavior will change in pandas 3.0. This inplace method will never work because the intermediate object on which we are setting values always behaves as a copy.\n",
      "\n",
      "For example, when doing 'df[col].method(value, inplace=True)', try using 'df.method({col: value}, inplace=True)' or df[col] = df[col].method(value) instead, to perform the operation inplace on the original object.\n",
      "\n",
      "\n",
      "  dataset['salary'].fillna(0,inplace=True)\n"
     ]
    }
   ],
   "source": [
    "dataset['salary'].fillna(0,inplace=True)\n"
   ]
  },
  {
   "cell_type": "code",
   "execution_count": 6,
   "id": "6c83d263-5901-47fb-a055-626e6b2cb7da",
   "metadata": {},
   "outputs": [
    {
     "data": {
      "text/plain": [
       "sl_no             0\n",
       "gender            0\n",
       "ssc_p             0\n",
       "ssc_b             0\n",
       "hsc_p             0\n",
       "hsc_b             0\n",
       "hsc_s             0\n",
       "degree_p          0\n",
       "degree_t          0\n",
       "workex            0\n",
       "etest_p           0\n",
       "specialisation    0\n",
       "mba_p             0\n",
       "status            0\n",
       "salary            0\n",
       "dtype: int64"
      ]
     },
     "execution_count": 6,
     "metadata": {},
     "output_type": "execute_result"
    }
   ],
   "source": [
    "dataset.isnull().sum()"
   ]
  },
  {
   "cell_type": "code",
   "execution_count": 7,
   "id": "1563084e-8d5f-4d9b-ab46-709bfb08a9f0",
   "metadata": {},
   "outputs": [],
   "source": [
    "df=pd.DataFrame(dataset)"
   ]
  },
  {
   "cell_type": "code",
   "execution_count": 8,
   "id": "f0cabc05-170a-4f7c-8a49-5d4ee82a82d4",
   "metadata": {},
   "outputs": [],
   "source": [
    "df = pd.get_dummies(df, drop_first=True)"
   ]
  },
  {
   "cell_type": "code",
   "execution_count": 9,
   "id": "a6c9358e-7f9d-4df7-b583-d29773d44ab5",
   "metadata": {},
   "outputs": [
    {
     "name": "stdout",
     "output_type": "stream",
     "text": [
      "Correlation of parameters with salary:\n",
      "specialisation_Mkt&HR   -0.275766\n",
      "degree_t_Others         -0.107139\n",
      "sl_no                    0.002543\n",
      "hsc_b_Others             0.011544\n",
      "hsc_s_Commerce           0.015239\n",
      "hsc_s_Science            0.026890\n",
      "ssc_b_Others             0.034594\n",
      "degree_t_Sci&Tech        0.079351\n",
      "mba_p                    0.139823\n",
      "gender_M                 0.143110\n",
      "etest_p                  0.186988\n",
      "workex_Yes               0.298285\n",
      "degree_p                 0.408371\n",
      "hsc_p                    0.452569\n",
      "ssc_p                    0.538090\n",
      "status_Placed            0.865774\n",
      "salary                   1.000000\n",
      "Name: salary, dtype: float64\n"
     ]
    }
   ],
   "source": [
    "# Compute correlation matrix\n",
    "correlations = df.corr()\n",
    "\n",
    "# Extract correlation of all features with salary\n",
    "salary_correlation = correlations['salary'].sort_values(ascending=True)\n",
    "\n",
    "# Print the correlations\n",
    "print(\"Correlation of parameters with salary:\")\n",
    "print(salary_correlation)\n"
   ]
  },
  {
   "cell_type": "code",
   "execution_count": 10,
   "id": "7f8d8757-4c02-4a0a-867a-a021a1ec8f30",
   "metadata": {},
   "outputs": [
    {
     "data": {
      "text/plain": [
       "status\n",
       "Placed        148\n",
       "Not Placed     67\n",
       "Name: count, dtype: int64"
      ]
     },
     "execution_count": 10,
     "metadata": {},
     "output_type": "execute_result"
    }
   ],
   "source": [
    "dataset['status'].value_counts()"
   ]
  },
  {
   "cell_type": "code",
   "execution_count": 11,
   "id": "6b7ae9c2-d000-4389-91d1-81dc662c99cb",
   "metadata": {},
   "outputs": [
    {
     "name": "stdout",
     "output_type": "stream",
     "text": [
      "Correlation: 0.13982273892615565\n"
     ]
    }
   ],
   "source": [
    "correlation = df['mba_p'].corr(df['salary'])\n",
    "print(\"Correlation:\", correlation)"
   ]
  },
  {
   "cell_type": "code",
   "execution_count": 12,
   "id": "891e75ab-d9b9-4d7e-8b9c-31097cf3dcbd",
   "metadata": {},
   "outputs": [
    {
     "ename": "KeyError",
     "evalue": "'specialisation'",
     "output_type": "error",
     "traceback": [
      "\u001b[1;31m---------------------------------------------------------------------------\u001b[0m",
      "\u001b[1;31mKeyError\u001b[0m                                  Traceback (most recent call last)",
      "Cell \u001b[1;32mIn[12], line 1\u001b[0m\n\u001b[1;32m----> 1\u001b[0m max_salaries \u001b[38;5;241m=\u001b[39m df\u001b[38;5;241m.\u001b[39mgroupby(\u001b[38;5;124m'\u001b[39m\u001b[38;5;124mspecialisation\u001b[39m\u001b[38;5;124m'\u001b[39m)[\u001b[38;5;124m'\u001b[39m\u001b[38;5;124msalary\u001b[39m\u001b[38;5;124m'\u001b[39m]\u001b[38;5;241m.\u001b[39mmax()\n",
      "File \u001b[1;32mC:\\Kartik\\anaconda3\\envs\\aidl\\Lib\\site-packages\\pandas\\core\\frame.py:9170\u001b[0m, in \u001b[0;36mDataFrame.groupby\u001b[1;34m(self, by, axis, level, as_index, sort, group_keys, observed, dropna)\u001b[0m\n\u001b[0;32m   9167\u001b[0m \u001b[38;5;28;01mif\u001b[39;00m level \u001b[38;5;129;01mis\u001b[39;00m \u001b[38;5;28;01mNone\u001b[39;00m \u001b[38;5;129;01mand\u001b[39;00m by \u001b[38;5;129;01mis\u001b[39;00m \u001b[38;5;28;01mNone\u001b[39;00m:\n\u001b[0;32m   9168\u001b[0m     \u001b[38;5;28;01mraise\u001b[39;00m \u001b[38;5;167;01mTypeError\u001b[39;00m(\u001b[38;5;124m\"\u001b[39m\u001b[38;5;124mYou have to supply one of \u001b[39m\u001b[38;5;124m'\u001b[39m\u001b[38;5;124mby\u001b[39m\u001b[38;5;124m'\u001b[39m\u001b[38;5;124m and \u001b[39m\u001b[38;5;124m'\u001b[39m\u001b[38;5;124mlevel\u001b[39m\u001b[38;5;124m'\u001b[39m\u001b[38;5;124m\"\u001b[39m)\n\u001b[1;32m-> 9170\u001b[0m \u001b[38;5;28;01mreturn\u001b[39;00m DataFrameGroupBy(\n\u001b[0;32m   9171\u001b[0m     obj\u001b[38;5;241m=\u001b[39m\u001b[38;5;28mself\u001b[39m,\n\u001b[0;32m   9172\u001b[0m     keys\u001b[38;5;241m=\u001b[39mby,\n\u001b[0;32m   9173\u001b[0m     axis\u001b[38;5;241m=\u001b[39maxis,\n\u001b[0;32m   9174\u001b[0m     level\u001b[38;5;241m=\u001b[39mlevel,\n\u001b[0;32m   9175\u001b[0m     as_index\u001b[38;5;241m=\u001b[39mas_index,\n\u001b[0;32m   9176\u001b[0m     sort\u001b[38;5;241m=\u001b[39msort,\n\u001b[0;32m   9177\u001b[0m     group_keys\u001b[38;5;241m=\u001b[39mgroup_keys,\n\u001b[0;32m   9178\u001b[0m     observed\u001b[38;5;241m=\u001b[39mobserved,\n\u001b[0;32m   9179\u001b[0m     dropna\u001b[38;5;241m=\u001b[39mdropna,\n\u001b[0;32m   9180\u001b[0m )\n",
      "File \u001b[1;32mC:\\Kartik\\anaconda3\\envs\\aidl\\Lib\\site-packages\\pandas\\core\\groupby\\groupby.py:1329\u001b[0m, in \u001b[0;36mGroupBy.__init__\u001b[1;34m(self, obj, keys, axis, level, grouper, exclusions, selection, as_index, sort, group_keys, observed, dropna)\u001b[0m\n\u001b[0;32m   1326\u001b[0m \u001b[38;5;28mself\u001b[39m\u001b[38;5;241m.\u001b[39mdropna \u001b[38;5;241m=\u001b[39m dropna\n\u001b[0;32m   1328\u001b[0m \u001b[38;5;28;01mif\u001b[39;00m grouper \u001b[38;5;129;01mis\u001b[39;00m \u001b[38;5;28;01mNone\u001b[39;00m:\n\u001b[1;32m-> 1329\u001b[0m     grouper, exclusions, obj \u001b[38;5;241m=\u001b[39m get_grouper(\n\u001b[0;32m   1330\u001b[0m         obj,\n\u001b[0;32m   1331\u001b[0m         keys,\n\u001b[0;32m   1332\u001b[0m         axis\u001b[38;5;241m=\u001b[39maxis,\n\u001b[0;32m   1333\u001b[0m         level\u001b[38;5;241m=\u001b[39mlevel,\n\u001b[0;32m   1334\u001b[0m         sort\u001b[38;5;241m=\u001b[39msort,\n\u001b[0;32m   1335\u001b[0m         observed\u001b[38;5;241m=\u001b[39m\u001b[38;5;28;01mFalse\u001b[39;00m \u001b[38;5;28;01mif\u001b[39;00m observed \u001b[38;5;129;01mis\u001b[39;00m lib\u001b[38;5;241m.\u001b[39mno_default \u001b[38;5;28;01melse\u001b[39;00m observed,\n\u001b[0;32m   1336\u001b[0m         dropna\u001b[38;5;241m=\u001b[39m\u001b[38;5;28mself\u001b[39m\u001b[38;5;241m.\u001b[39mdropna,\n\u001b[0;32m   1337\u001b[0m     )\n\u001b[0;32m   1339\u001b[0m \u001b[38;5;28;01mif\u001b[39;00m observed \u001b[38;5;129;01mis\u001b[39;00m lib\u001b[38;5;241m.\u001b[39mno_default:\n\u001b[0;32m   1340\u001b[0m     \u001b[38;5;28;01mif\u001b[39;00m \u001b[38;5;28many\u001b[39m(ping\u001b[38;5;241m.\u001b[39m_passed_categorical \u001b[38;5;28;01mfor\u001b[39;00m ping \u001b[38;5;129;01min\u001b[39;00m grouper\u001b[38;5;241m.\u001b[39mgroupings):\n",
      "File \u001b[1;32mC:\\Kartik\\anaconda3\\envs\\aidl\\Lib\\site-packages\\pandas\\core\\groupby\\grouper.py:1043\u001b[0m, in \u001b[0;36mget_grouper\u001b[1;34m(obj, key, axis, level, sort, observed, validate, dropna)\u001b[0m\n\u001b[0;32m   1041\u001b[0m         in_axis, level, gpr \u001b[38;5;241m=\u001b[39m \u001b[38;5;28;01mFalse\u001b[39;00m, gpr, \u001b[38;5;28;01mNone\u001b[39;00m\n\u001b[0;32m   1042\u001b[0m     \u001b[38;5;28;01melse\u001b[39;00m:\n\u001b[1;32m-> 1043\u001b[0m         \u001b[38;5;28;01mraise\u001b[39;00m \u001b[38;5;167;01mKeyError\u001b[39;00m(gpr)\n\u001b[0;32m   1044\u001b[0m \u001b[38;5;28;01melif\u001b[39;00m \u001b[38;5;28misinstance\u001b[39m(gpr, Grouper) \u001b[38;5;129;01mand\u001b[39;00m gpr\u001b[38;5;241m.\u001b[39mkey \u001b[38;5;129;01mis\u001b[39;00m \u001b[38;5;129;01mnot\u001b[39;00m \u001b[38;5;28;01mNone\u001b[39;00m:\n\u001b[0;32m   1045\u001b[0m     \u001b[38;5;66;03m# Add key to exclusions\u001b[39;00m\n\u001b[0;32m   1046\u001b[0m     exclusions\u001b[38;5;241m.\u001b[39madd(gpr\u001b[38;5;241m.\u001b[39mkey)\n",
      "\u001b[1;31mKeyError\u001b[0m: 'specialisation'"
     ]
    }
   ],
   "source": [
    "max_salaries = df.groupby('specialisation')['salary'].max()"
   ]
  },
  {
   "cell_type": "code",
   "execution_count": null,
   "id": "103c5398-bfb4-4e52-935b-a967a7124a07",
   "metadata": {},
   "outputs": [],
   "source": [
    "specialization_min_salary = min_salaries.idxmax()  # Returns specialization with minimum salary\n",
    "min_salary = min_salaries.min()  # Returns the minimum salary itself\n"
   ]
  },
  {
   "cell_type": "code",
   "execution_count": null,
   "id": "959fa476-77f7-455d-bc73-1902e873ba18",
   "metadata": {},
   "outputs": [],
   "source": [
    "specialization_min_salary"
   ]
  },
  {
   "cell_type": "code",
   "execution_count": null,
   "id": "f4f275ce-30ea-46ce-bed0-633b07f2c153",
   "metadata": {},
   "outputs": [],
   "source": [
    "min_salary"
   ]
  },
  {
   "cell_type": "code",
   "execution_count": null,
   "id": "333340d6-385a-4080-b7bf-46689e3a345b",
   "metadata": {},
   "outputs": [],
   "source": [
    "dir('datatype')"
   ]
  },
  {
   "cell_type": "code",
   "execution_count": null,
   "id": "a7362a67-a074-4c3e-a160-c5a6f1575ec3",
   "metadata": {},
   "outputs": [],
   "source": [
    "salaries = df['salary'].to_numpy()\n",
    "min_index = np.argmin(salaries)\n"
   ]
  },
  {
   "cell_type": "code",
   "execution_count": null,
   "id": "38650987-0d4c-443a-8763-ac4b9ebcd7c5",
   "metadata": {},
   "outputs": [],
   "source": [
    "min_index"
   ]
  },
  {
   "cell_type": "code",
   "execution_count": null,
   "id": "a675424e-2fcf-4fc0-af39-8ef297b035d0",
   "metadata": {},
   "outputs": [],
   "source": [
    "specialisation_min = df.loc[min_index, 'specialisation']\n",
    "min_salary = salaries[min_index]"
   ]
  },
  {
   "cell_type": "code",
   "execution_count": null,
   "id": "e62d8f2c-c45f-4628-9475-bbf1c60a27db",
   "metadata": {},
   "outputs": [],
   "source": [
    "min_salary"
   ]
  },
  {
   "cell_type": "code",
   "execution_count": null,
   "id": "ca93c552-92b4-457f-8e89-1b7202e3c89a",
   "metadata": {},
   "outputs": [],
   "source": [
    "specialisation_min"
   ]
  },
  {
   "cell_type": "code",
   "execution_count": null,
   "id": "d469bbe1-3958-48a0-ad00-2e3e22e40012",
   "metadata": {},
   "outputs": [],
   "source": [
    "min_salary_row = df.loc[df['salary'].idxmin()]"
   ]
  },
  {
   "cell_type": "code",
   "execution_count": null,
   "id": "bd322c0b-f0f8-45c2-beca-dce7df073e07",
   "metadata": {},
   "outputs": [],
   "source": [
    "specialisation_min_salary = min_salary_row['specialisation']\n",
    "min_salary = min_salary_row['salary']\n"
   ]
  },
  {
   "cell_type": "code",
   "execution_count": null,
   "id": "ff7c2ac5-7316-409b-9537-6221c1eec638",
   "metadata": {},
   "outputs": [],
   "source": [
    "specialisation_min_salary"
   ]
  },
  {
   "cell_type": "code",
   "execution_count": null,
   "id": "b7e27dfe-df73-4e5f-8817-54cf9c70829a",
   "metadata": {},
   "outputs": [],
   "source": [
    "min_salary"
   ]
  },
  {
   "cell_type": "code",
   "execution_count": null,
   "id": "c921ae79-7aba-415d-9187-cf7c162430c0",
   "metadata": {},
   "outputs": [],
   "source": [
    "above_5_lakhs = df[df['salary'] > 500000].shape[0]\n",
    "print(\"Number of employees making more than 500000:\", above_5_lakhs)\n"
   ]
  },
  {
   "cell_type": "code",
   "execution_count": null,
   "id": "76858069-4368-4947-8ca3-801cecdf808a",
   "metadata": {},
   "outputs": [],
   "source": [
    "from scipy.stats import ttest_ind\n",
    "dataset=dataset.dropna()\n",
    "degree = dataset[dataset['degree_t']=='Sci&Tech']['salary']\n",
    "special= dataset[dataset['specialisation']=='Mkt&HR']['salary']\n",
    "#print(male)\n",
    "ttest_ind(degree, special)"
   ]
  },
  {
   "cell_type": "code",
   "execution_count": null,
   "id": "dde07385-5acd-484f-9204-7188a82efdb6",
   "metadata": {},
   "outputs": [],
   "source": [
    "from scipy.stats import zscore\n",
    "\n",
    "# Standardize the Salary column\n",
    "Standardized_Salary= zscore(df['ssc_p'])\n",
    "\n",
    "\n"
   ]
  },
  {
   "cell_type": "code",
   "execution_count": null,
   "id": "8fed6f12-9996-4912-b5f5-298a91578689",
   "metadata": {},
   "outputs": [],
   "source": [
    "Standardized_Salary"
   ]
  },
  {
   "cell_type": "code",
   "execution_count": null,
   "id": "c0c3a110-cf39-450b-82c8-2b90d0db4140",
   "metadata": {},
   "outputs": [],
   "source": [
    "import matplotlib.pyplot as plt\n",
    "import seaborn as sns\n",
    "\n",
    "# Assuming your z-scores are in a pandas Series called 'salary_z_scores'\n",
    "sns.histplot(Standardized_Salary, bins=30, kde=True, color='blue')  # kde=True adds a density curve\n",
    "plt.title('Distribution of Z-Scores')\n",
    "plt.xlabel('Z-Score')\n",
    "plt.ylabel('Frequency')\n",
    "plt.show()"
   ]
  },
  {
   "cell_type": "code",
   "execution_count": null,
   "id": "de63d4e1-1492-45f1-b885-60340164fff6",
   "metadata": {},
   "outputs": [],
   "source": [
    "def stdNBgraph(dataset):\n",
    "        # Coverted to standard Normal Distribution\n",
    "    import seaborn as sns\n",
    "    mean=dataset.mean()\n",
    "    std=dataset.std()\n",
    "\n",
    "    values=[i for i in dataset]\n",
    "\n",
    "    z_score=[((j-mean)/std) for j in values]\n",
    "\n",
    "    sns.distplot(z_score,kde=True)\n",
    "\n",
    "    sum(z_score)/len(z_score)\n",
    "    #z_score.std()"
   ]
  },
  {
   "cell_type": "code",
   "execution_count": null,
   "id": "acbb613e-4d5e-4629-a17a-83b9f08db7d0",
   "metadata": {},
   "outputs": [],
   "source": [
    "stdNBgraph(dataset[\"salary\"])"
   ]
  },
  {
   "cell_type": "code",
   "execution_count": null,
   "id": "b35ca210-cb5a-414d-b1c9-d1b91cd72bc1",
   "metadata": {},
   "outputs": [],
   "source": [
    "dataset[\"salary\"].mean()"
   ]
  },
  {
   "cell_type": "code",
   "execution_count": null,
   "id": "80ac28a9-f06b-4e78-8995-3a9067b7d567",
   "metadata": {},
   "outputs": [],
   "source": [
    "dataset[\"salary\"].std()"
   ]
  },
  {
   "cell_type": "code",
   "execution_count": null,
   "id": "c49a6c64-e637-4262-a8a4-5bfd97ecd457",
   "metadata": {},
   "outputs": [],
   "source": [
    "dataset[\"salary\"].max()"
   ]
  },
  {
   "cell_type": "code",
   "execution_count": null,
   "id": "18195c65-04f1-4769-a07d-2885831f2758",
   "metadata": {},
   "outputs": [],
   "source": [
    "salaries = [700000, 750000, 800000, 850000, 900000]\n"
   ]
  },
  {
   "cell_type": "code",
   "execution_count": null,
   "id": "5c1c21f4-ddef-4324-995f-5aa170af1b88",
   "metadata": {},
   "outputs": [],
   "source": [
    "mean_salary = np.mean(salaries)\n",
    "print(f\"Mean Salary: {mean_salary}\")"
   ]
  },
  {
   "cell_type": "code",
   "execution_count": null,
   "id": "8390daee-3d15-42f4-9937-853182f0eefe",
   "metadata": {},
   "outputs": [],
   "source": [
    "std_salary = np.std(salaries)\n",
    "print(f\"std Salary: {std_salary}\")"
   ]
  },
  {
   "cell_type": "code",
   "execution_count": null,
   "id": "e1626618-0de1-4e8c-a5ca-46ff61ec74c3",
   "metadata": {},
   "outputs": [],
   "source": [
    "pdf_start = norm.pdf(700000, mean_salary, std_salary)\n",
    "pdf_end = norm.pdf(900000,  mean_salary, std_salary)"
   ]
  },
  {
   "cell_type": "code",
   "execution_count": null,
   "id": "a30555b7-6d28-40a4-9c95-b548641a42dd",
   "metadata": {},
   "outputs": [],
   "source": [
    "pdf_start"
   ]
  },
  {
   "cell_type": "code",
   "execution_count": null,
   "id": "abb2cb76-36e9-4d6f-9703-077d19cbff5f",
   "metadata": {},
   "outputs": [],
   "source": [
    "cdf_start = norm.cdf(700000, mean_salary, std_salary)\n",
    "cdf_end = norm.cdf(900000,  mean_salary, std_salary)"
   ]
  },
  {
   "cell_type": "code",
   "execution_count": null,
   "id": "e4e32efc-7202-4e98-ab19-f3861018a871",
   "metadata": {},
   "outputs": [],
   "source": [
    "probability = cdf_end - cdf_start\n"
   ]
  },
  {
   "cell_type": "code",
   "execution_count": null,
   "id": "c8c5ae69-c55f-49ae-913a-61e94350e6c3",
   "metadata": {},
   "outputs": [],
   "source": [
    "probability"
   ]
  },
  {
   "cell_type": "code",
   "execution_count": null,
   "id": "edb1508f-41f9-48ab-b922-e2684f03f22a",
   "metadata": {},
   "outputs": [],
   "source": [
    "import numpy as np\n",
    "from scipy.stats import norm\n",
    "\n",
    "# Example data\n",
    "salary = df['salary'].dropna()  # Drop missing values\n",
    "\n",
    "# Calculate mean and standard deviation\n",
    "mu = salary.mean()\n",
    "sigma = salary.std()\n",
    "\n",
    "# Calculate probabilities\n",
    "prob_start = norm.cdf(700000, loc=mu, scale=sigma)\n",
    "prob_end = norm.cdf(900000, loc=mu, scale=sigma)\n",
    "\n",
    "# Probability for the range\n",
    "prob_range = prob_end - prob_start\n",
    "\n",
    "print(f\"Probability of salary between 7L and 9L: {prob_range:.4f}\")\n"
   ]
  },
  {
   "cell_type": "code",
   "execution_count": null,
   "id": "2464797d-722b-4b79-98ee-5551dffb902e",
   "metadata": {},
   "outputs": [],
   "source": [
    "import matplotlib.pyplot as plt\n",
    "import seaborn as sns\n",
    "\n",
    "# Load salary data, dropping NaN values\n",
    "salary = df['salary'].dropna()\n",
    "\n",
    "# Set up the figure\n",
    "plt.figure(figsize=(12, 6))\n",
    "\n",
    "# Subplot 1: Histogram of Salary\n",
    "plt.subplot(1, 2, 1)\n",
    "sns.histplot(salary, bins=15, kde=True, color='blue')\n",
    "plt.title('Salary Distribution')\n",
    "plt.xlabel('Salary')\n",
    "plt.ylabel('Frequency')\n",
    "\n",
    "\n",
    "\n",
    "# Show the plots\n",
    "plt.tight_layout()\n",
    "plt.show()\n"
   ]
  },
  {
   "cell_type": "code",
   "execution_count": null,
   "id": "d49c3153-ec1e-4796-91cd-0c5937818cff",
   "metadata": {},
   "outputs": [],
   "source": [
    "# Count of students with and without work experience in both groups\n",
    "workex_impact = df.groupby(['status', 'workex'])['sl_no'].count().unstack()\n",
    "\n",
    "# Plot\n",
    "workex_impact.plot(kind='bar', figsize=(8, 5), stacked=True, color=['#4CAF50', '#FFC107'])\n",
    "plt.title('Impact of Work Experience on Placement')\n",
    "plt.xlabel('Placement Status')\n",
    "plt.ylabel('Count of Students')\n",
    "plt.legend(title='Work Experience')\n",
    "plt.show()\n"
   ]
  },
  {
   "cell_type": "code",
   "execution_count": null,
   "id": "120b7d18-39ed-433f-9b7a-71e9cc83023a",
   "metadata": {},
   "outputs": [],
   "source": [
    "import pandas as pd\n",
    "import matplotlib.pyplot as plt\n",
    "import seaborn as sns\n",
    "\n",
    "# Separate the dataset into placed and not placed\n",
    "placed = df[df['status'] == 'Placed']\n",
    "not_placed = df[df['status'] == 'Not Placed']\n",
    "\n",
    "# Compare key features\n",
    "features = ['ssc_p', 'hsc_p', 'etest_p', 'mba_p']\n",
    "summary = pd.DataFrame({\n",
    "    'Placed_Mean': placed[features].mean(),\n",
    "    'Not_Placed_Mean': not_placed[features].mean(),\n",
    "    'Difference': placed[features].mean() - not_placed[features].mean()\n",
    "})\n",
    "\n",
    "print(\"Comparison of features between Placed and Not Placed students:\")\n",
    "print(summary)\n",
    "\n",
    "# Plot the differences\n",
    "plt.figure(figsize=(10, 6))\n",
    "sns.barplot(x=summary.index, y=summary['Difference'], palette='coolwarm')\n",
    "plt.title('Difference in Key Features Between Placed and Not Placed Students')\n",
    "plt.xlabel('Features')\n",
    "plt.ylabel('Mean Difference')\n",
    "plt.axhline(0, color='black', linestyle='--')\n",
    "plt.show()"
   ]
  },
  {
   "cell_type": "code",
   "execution_count": null,
   "id": "8a41af82-01a0-437e-b114-73a88d26943c",
   "metadata": {},
   "outputs": [],
   "source": [
    "# Visualization\n",
    "min_salary_by_specialisation.plot(kind='bar', color=['skyblue', 'lightcoral'], figsize=(8, 5))\n",
    "plt.title('Minimum Salary by MBA Specialisation')\n",
    "plt.xlabel('Specialisation')\n",
    "plt.ylabel('Minimum Salary')\n",
    "plt.xticks(rotation=0)\n",
    "plt.show()"
   ]
  }
 ],
 "metadata": {
  "kernelspec": {
   "display_name": "Python 3 (ipykernel)",
   "language": "python",
   "name": "python3"
  },
  "language_info": {
   "codemirror_mode": {
    "name": "ipython",
    "version": 3
   },
   "file_extension": ".py",
   "mimetype": "text/x-python",
   "name": "python",
   "nbconvert_exporter": "python",
   "pygments_lexer": "ipython3",
   "version": "3.11.5"
  }
 },
 "nbformat": 4,
 "nbformat_minor": 5
}
