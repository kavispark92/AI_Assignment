{
 "cells": [
  {
   "cell_type": "markdown",
   "id": "400d9ecd-c690-4b0c-92ce-21de4f3d0b8a",
   "metadata": {},
   "source": [
    "#scattterplot"
   ]
  },
  {
   "cell_type": "code",
   "execution_count": null,
   "id": "4e0dcc5f-96cd-49ac-bfbe-a1cf68744e12",
   "metadata": {},
   "outputs": [],
   "source": [
    "sns.relplot(x='ssc_p',y='degree_p',kind='line',hue='salary',data=dataset)"
   ]
  },
  {
   "cell_type": "code",
   "execution_count": null,
   "id": "f129539f-0cef-4f7f-864d-620ae326ba79",
   "metadata": {},
   "outputs": [],
   "source": [
    "dataset.tail()"
   ]
  },
  {
   "cell_type": "code",
   "execution_count": null,
   "id": "92d2e7da-a6c5-4a54-8413-f6babf533f5d",
   "metadata": {},
   "outputs": [],
   "source": [
    "dataset[\"salary\"].fillna(0,inplace=True)"
   ]
  },
  {
   "cell_type": "code",
   "execution_count": null,
   "id": "a39ba580-0ad1-4c6a-b32d-498082fb5718",
   "metadata": {},
   "outputs": [],
   "source": [
    "dataset.isnull().sum()"
   ]
  },
  {
   "cell_type": "code",
   "execution_count": null,
   "id": "c8f6cf8f-2c26-4e8a-aa08-720101895bdb",
   "metadata": {},
   "outputs": [],
   "source": [
    "dataset.status"
   ]
  },
  {
   "cell_type": "code",
   "execution_count": null,
   "id": "78ddb18f-e3c6-40e5-b3b5-09d01c2fa7d1",
   "metadata": {},
   "outputs": [],
   "source": [
    "dataset.columns"
   ]
  },
  {
   "cell_type": "code",
   "execution_count": null,
   "id": "0c29d9fb-a654-43a4-aabf-8e165336192d",
   "metadata": {},
   "outputs": [],
   "source": [
    "dataset['status'].nunique()"
   ]
  },
  {
   "cell_type": "code",
   "execution_count": null,
   "id": "95901b0a-b007-41a6-9ccd-cb663b8a609d",
   "metadata": {},
   "outputs": [],
   "source": [
    "dataset['degree_t'].nunique()"
   ]
  },
  {
   "cell_type": "code",
   "execution_count": null,
   "id": "72fd4adf-41ee-442f-a234-5f47633a977c",
   "metadata": {},
   "outputs": [],
   "source": [
    "pd.value_counts(dataset['status'])"
   ]
  },
  {
   "cell_type": "code",
   "execution_count": null,
   "id": "e9a098c6-472e-49f0-8002-ff71f81062ca",
   "metadata": {},
   "outputs": [],
   "source": [
    "dataset.salary"
   ]
  },
  {
   "cell_type": "code",
   "execution_count": null,
   "id": "39cfc39a-c787-40ca-923d-78ef1152e48f",
   "metadata": {},
   "outputs": [],
   "source": [
    "salaries=dataset.salary"
   ]
  },
  {
   "cell_type": "code",
   "execution_count": null,
   "id": "d42cad9f-abe9-400e-91ee-4708ddb5b5ac",
   "metadata": {},
   "outputs": [],
   "source": [
    "salaries"
   ]
  },
  {
   "cell_type": "code",
   "execution_count": null,
   "id": "420ce89e-7623-4f6c-bb0c-d3f83eb384aa",
   "metadata": {},
   "outputs": [],
   "source": [
    "max_salary=salaries.max()"
   ]
  },
  {
   "cell_type": "code",
   "execution_count": null,
   "id": "2d26d45c-0725-4f29-a55a-c5e9f7d15162",
   "metadata": {},
   "outputs": [],
   "source": [
    "max_salary"
   ]
  },
  {
   "cell_type": "code",
   "execution_count": null,
   "id": "c858dbec-1858-494e-849a-875625e2962c",
   "metadata": {},
   "outputs": [],
   "source": [
    "df = pd.DataFrame(dataset)\n",
    "above_5_lakhs = df[df['salary'] > 500000].shape[0]\n",
    "print(\"Number of employees making more than 500000:\", above_5_lakhs)\n"
   ]
  },
  {
   "cell_type": "code",
   "execution_count": null,
   "id": "485d2cdf-02de-4b4b-85cc-e3f7808a8eb5",
   "metadata": {},
   "outputs": [],
   "source": [
    "dataset"
   ]
  },
  {
   "cell_type": "code",
   "execution_count": null,
   "id": "246f966e-969e-43ee-a14d-2731e9bef3dd",
   "metadata": {},
   "outputs": [],
   "source": [
    "min_salary=salaries.min()"
   ]
  },
  {
   "cell_type": "code",
   "execution_count": null,
   "id": "78632599-d4d9-408b-a248-5266e5b7d7d1",
   "metadata": {},
   "outputs": [],
   "source": [
    "min_salary"
   ]
  },
  {
   "cell_type": "code",
   "execution_count": null,
   "id": "de4da6ce-8ac3-4326-bada-d71d73e00a48",
   "metadata": {},
   "outputs": [],
   "source": [
    "dataset.specialisation"
   ]
  },
  {
   "cell_type": "code",
   "execution_count": null,
   "id": "b46cc6bf-4599-4a88-974d-a1a4bc73e85a",
   "metadata": {},
   "outputs": [],
   "source": [
    "dataset['specialisation'].nunique()\n"
   ]
  },
  {
   "cell_type": "code",
   "execution_count": null,
   "id": "1dd264ad-fc63-4ce7-9b80-0c9a7e4cecb4",
   "metadata": {},
   "outputs": [],
   "source": [
    "min_salary = df[df['salary'] == df['salary'].min()]\n",
    "min_salary_spec = min_salary['specialisation'].values[0]\n",
    "\n"
   ]
  },
  {
   "cell_type": "code",
   "execution_count": null,
   "id": "7dce2538-c3bb-47d2-882f-042df6edc39f",
   "metadata": {},
   "outputs": [],
   "source": [
    "min_salary_spec"
   ]
  },
  {
   "cell_type": "code",
   "execution_count": null,
   "id": "35aba8e4-7602-41b0-8299-85b3e530b893",
   "metadata": {},
   "outputs": [],
   "source": [
    "dataset[dataset[\"gender\"]==\"F\"][\"salary\"]"
   ]
  },
  {
   "cell_type": "code",
   "execution_count": 2,
   "id": "419d7ead-12d8-43de-9aed-08b15b5d39c0",
   "metadata": {},
   "outputs": [
    {
     "ename": "SyntaxError",
     "evalue": "invalid non-printable character U+00A0 (959966966.py, line 1)",
     "output_type": "error",
     "traceback": [
      "\u001b[1;36m  Cell \u001b[1;32mIn[2], line 1\u001b[1;36m\u001b[0m\n\u001b[1;33m    import seaborn as sns\u001b[0m\n\u001b[1;37m                         ^\u001b[0m\n\u001b[1;31mSyntaxError\u001b[0m\u001b[1;31m:\u001b[0m invalid non-printable character U+00A0\n"
     ]
    }
   ],
   "source": [
    "import seaborn as sns  \n",
    "\n",
    "sns.scatterplot(x='mba_p', y='Salary', data=df)\n",
    "plt.show()\n"
   ]
  },
  {
   "cell_type": "code",
   "execution_count": 1,
   "id": "743a2ad9-db79-4748-9f79-2f763f9e50c6",
   "metadata": {},
   "outputs": [
    {
     "ename": "NameError",
     "evalue": "name 'dataset' is not defined",
     "output_type": "error",
     "traceback": [
      "\u001b[1;31m---------------------------------------------------------------------------\u001b[0m",
      "\u001b[1;31mNameError\u001b[0m                                 Traceback (most recent call last)",
      "Cell \u001b[1;32mIn[1], line 1\u001b[0m\n\u001b[1;32m----> 1\u001b[0m dataset\u001b[38;5;241m.\u001b[39mcorr()\n",
      "\u001b[1;31mNameError\u001b[0m: name 'dataset' is not defined"
     ]
    }
   ],
   "source": [
    "dataset.corr()"
   ]
  },
  {
   "cell_type": "code",
   "execution_count": null,
   "id": "f2431291-9774-4736-8a1c-3891913b9099",
   "metadata": {},
   "outputs": [],
   "source": []
  }
 ],
 "metadata": {
  "kernelspec": {
   "display_name": "Python 3 (ipykernel)",
   "language": "python",
   "name": "python3"
  },
  "language_info": {
   "codemirror_mode": {
    "name": "ipython",
    "version": 3
   },
   "file_extension": ".py",
   "mimetype": "text/x-python",
   "name": "python",
   "nbconvert_exporter": "python",
   "pygments_lexer": "ipython3",
   "version": "3.11.5"
  }
 },
 "nbformat": 4,
 "nbformat_minor": 5
}
